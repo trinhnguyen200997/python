{
  "nbformat": 4,
  "nbformat_minor": 0,
  "metadata": {
    "colab": {
      "provenance": []
    },
    "kernelspec": {
      "name": "python3",
      "display_name": "Python 3"
    },
    "language_info": {
      "name": "python"
    }
  },
  "cells": [
    {
      "cell_type": "markdown",
      "source": [
        "\n",
        "\n",
        "*   Student Name: Trinh Nguyen\n",
        "*   Class/Section: INF 528, Spring Semester 2025\n",
        "*   Student ID: TN623245\n",
        "*   Date of Submission: 02/11/2025\n",
        "\n",
        "\n",
        "\n",
        "\n",
        "\n",
        "\n",
        "\n",
        "\n",
        "\n",
        "\n",
        "\n",
        "\n"
      ],
      "metadata": {
        "id": "oGI2_VNqZ8P_"
      }
    },
    {
      "cell_type": "markdown",
      "source": [
        "i) Basic Math:\n"
      ],
      "metadata": {
        "id": "Zo95ZZ4h25Bq"
      }
    },
    {
      "cell_type": "code",
      "source": [
        "3+3\n"
      ],
      "metadata": {
        "colab": {
          "base_uri": "https://localhost:8080/"
        },
        "id": "d-N7Vmb229vJ",
        "outputId": "46eff16e-ad5b-4a11-ccb8-ba562790acbe"
      },
      "execution_count": null,
      "outputs": [
        {
          "output_type": "execute_result",
          "data": {
            "text/plain": [
              "6"
            ]
          },
          "metadata": {},
          "execution_count": 2
        }
      ]
    },
    {
      "cell_type": "code",
      "source": [
        "5+4"
      ],
      "metadata": {
        "colab": {
          "base_uri": "https://localhost:8080/"
        },
        "id": "RAvf3vGj3C47",
        "outputId": "a2b95d44-f24d-4689-95fe-863671c089b5"
      },
      "execution_count": null,
      "outputs": [
        {
          "output_type": "execute_result",
          "data": {
            "text/plain": [
              "9"
            ]
          },
          "metadata": {},
          "execution_count": 3
        }
      ]
    },
    {
      "cell_type": "code",
      "source": [
        "9/2"
      ],
      "metadata": {
        "colab": {
          "base_uri": "https://localhost:8080/"
        },
        "id": "REYrtBXg3MJ9",
        "outputId": "6321c98f-644e-40c0-96ed-05c939fe83c6"
      },
      "execution_count": null,
      "outputs": [
        {
          "output_type": "execute_result",
          "data": {
            "text/plain": [
              "4.5"
            ]
          },
          "metadata": {},
          "execution_count": 4
        }
      ]
    },
    {
      "cell_type": "code",
      "source": [
        "2*2"
      ],
      "metadata": {
        "colab": {
          "base_uri": "https://localhost:8080/"
        },
        "id": "5SgUyhCU3Rsw",
        "outputId": "e00355e7-ac4a-4d1c-b804-025c63b98724"
      },
      "execution_count": null,
      "outputs": [
        {
          "output_type": "execute_result",
          "data": {
            "text/plain": [
              "4"
            ]
          },
          "metadata": {},
          "execution_count": 5
        }
      ]
    },
    {
      "cell_type": "code",
      "source": [
        "8%2"
      ],
      "metadata": {
        "colab": {
          "base_uri": "https://localhost:8080/"
        },
        "id": "RZ0MUa9C3TgO",
        "outputId": "98ae2276-6124-4e85-9d8b-b16b6e430fa9"
      },
      "execution_count": null,
      "outputs": [
        {
          "output_type": "execute_result",
          "data": {
            "text/plain": [
              "0"
            ]
          },
          "metadata": {},
          "execution_count": 6
        }
      ]
    },
    {
      "cell_type": "code",
      "source": [
        "9"
      ],
      "metadata": {
        "colab": {
          "base_uri": "https://localhost:8080/"
        },
        "id": "D0G46n223W7Z",
        "outputId": "ba7fc980-de89-49fc-b5c2-11254382f65b"
      },
      "execution_count": null,
      "outputs": [
        {
          "output_type": "execute_result",
          "data": {
            "text/plain": [
              "9"
            ]
          },
          "metadata": {},
          "execution_count": 7
        }
      ]
    },
    {
      "cell_type": "code",
      "source": [
        "9%4"
      ],
      "metadata": {
        "colab": {
          "base_uri": "https://localhost:8080/"
        },
        "id": "WHSBZFza3YFs",
        "outputId": "51167e61-eaf3-4507-c2d7-595be41f31ab"
      },
      "execution_count": null,
      "outputs": [
        {
          "output_type": "execute_result",
          "data": {
            "text/plain": [
              "1"
            ]
          },
          "metadata": {},
          "execution_count": 8
        }
      ]
    },
    {
      "cell_type": "markdown",
      "source": [
        "ii) Array:"
      ],
      "metadata": {
        "id": "Oqp_BMVc3aWq"
      }
    },
    {
      "cell_type": "code",
      "source": [
        "t = ('hello', 1, 2)\n",
        "t[1]"
      ],
      "metadata": {
        "colab": {
          "base_uri": "https://localhost:8080/"
        },
        "id": "EIHUZE7z3dqr",
        "outputId": "1a0b4f1b-812f-44d5-b35f-0e8b2a77e5ba"
      },
      "execution_count": null,
      "outputs": [
        {
          "output_type": "execute_result",
          "data": {
            "text/plain": [
              "1"
            ]
          },
          "metadata": {},
          "execution_count": 10
        }
      ]
    },
    {
      "cell_type": "markdown",
      "source": [
        "iii) Dictionary:"
      ],
      "metadata": {
        "id": "lW-SegRz3l-e"
      }
    },
    {
      "cell_type": "code",
      "source": [
        "d = {'user': 'bozo', 'hello': 1234}\n",
        "d['user']"
      ],
      "metadata": {
        "colab": {
          "base_uri": "https://localhost:8080/",
          "height": 36
        },
        "id": "gfcfMD7c3o_G",
        "outputId": "7070c3c9-ed23-4f43-e72a-9bd92ff5b03f"
      },
      "execution_count": null,
      "outputs": [
        {
          "output_type": "execute_result",
          "data": {
            "text/plain": [
              "'bozo'"
            ],
            "application/vnd.google.colaboratory.intrinsic+json": {
              "type": "string"
            }
          },
          "metadata": {},
          "execution_count": 11
        }
      ]
    },
    {
      "cell_type": "markdown",
      "source": [
        "iv) Strings:"
      ],
      "metadata": {
        "id": "gHtmrD4-3yqx"
      }
    },
    {
      "cell_type": "code",
      "source": [
        "a = \"hello world\"\n",
        "a[1]"
      ],
      "metadata": {
        "colab": {
          "base_uri": "https://localhost:8080/",
          "height": 36
        },
        "id": "-pqZzKPN310i",
        "outputId": "8bdea04c-3f28-44bb-b9b5-f471ab57c688"
      },
      "execution_count": null,
      "outputs": [
        {
          "output_type": "execute_result",
          "data": {
            "text/plain": [
              "'e'"
            ],
            "application/vnd.google.colaboratory.intrinsic+json": {
              "type": "string"
            }
          },
          "metadata": {},
          "execution_count": 15
        }
      ]
    },
    {
      "cell_type": "code",
      "source": [
        "a[6]"
      ],
      "metadata": {
        "colab": {
          "base_uri": "https://localhost:8080/",
          "height": 36
        },
        "id": "hSKUSPnH4Iq4",
        "outputId": "f551215c-c136-48d6-c97a-5636c7900aaf"
      },
      "execution_count": null,
      "outputs": [
        {
          "output_type": "execute_result",
          "data": {
            "text/plain": [
              "'w'"
            ],
            "application/vnd.google.colaboratory.intrinsic+json": {
              "type": "string"
            }
          },
          "metadata": {},
          "execution_count": 16
        }
      ]
    },
    {
      "cell_type": "code",
      "source": [
        "b = \"why\"\n",
        "a+b"
      ],
      "metadata": {
        "colab": {
          "base_uri": "https://localhost:8080/",
          "height": 36
        },
        "id": "SW7YaSU-4Lbj",
        "outputId": "12fbcdfb-fe2a-41e9-b888-6449445b8667"
      },
      "execution_count": null,
      "outputs": [
        {
          "output_type": "execute_result",
          "data": {
            "text/plain": [
              "'hello worldwhy'"
            ],
            "application/vnd.google.colaboratory.intrinsic+json": {
              "type": "string"
            }
          },
          "metadata": {},
          "execution_count": 17
        }
      ]
    },
    {
      "cell_type": "code",
      "source": [
        "a+ \" \" + b"
      ],
      "metadata": {
        "colab": {
          "base_uri": "https://localhost:8080/",
          "height": 36
        },
        "id": "nrkouG-24Phz",
        "outputId": "62fccc77-ef58-4f5e-e8a0-988e1039d934"
      },
      "execution_count": null,
      "outputs": [
        {
          "output_type": "execute_result",
          "data": {
            "text/plain": [
              "'hello world why'"
            ],
            "application/vnd.google.colaboratory.intrinsic+json": {
              "type": "string"
            }
          },
          "metadata": {},
          "execution_count": 18
        }
      ]
    },
    {
      "cell_type": "markdown",
      "source": [
        "v) Link List"
      ],
      "metadata": {
        "id": "k5bVEWyL4SRT"
      }
    },
    {
      "cell_type": "code",
      "source": [
        "List = [123, 'xyz', 'abc', 789]\n",
        "List.pop()"
      ],
      "metadata": {
        "colab": {
          "base_uri": "https://localhost:8080/"
        },
        "id": "trmhi7i94T41",
        "outputId": "1e943df8-f500-4bfb-adef-3b7461b6c2e7"
      },
      "execution_count": null,
      "outputs": [
        {
          "output_type": "execute_result",
          "data": {
            "text/plain": [
              "789"
            ]
          },
          "metadata": {},
          "execution_count": 22
        }
      ]
    },
    {
      "cell_type": "code",
      "source": [
        "List.remove(123)"
      ],
      "metadata": {
        "id": "y-6Ux6Gd4t-W"
      },
      "execution_count": null,
      "outputs": []
    },
    {
      "cell_type": "code",
      "source": [
        "List.reverse()\n",
        "print(List)"
      ],
      "metadata": {
        "colab": {
          "base_uri": "https://localhost:8080/"
        },
        "id": "prZF0iZz4y6s",
        "outputId": "7ca65fe0-bfa6-48f8-cfac-40306afeceb3"
      },
      "execution_count": null,
      "outputs": [
        {
          "output_type": "stream",
          "name": "stdout",
          "text": [
            "['abc', 'xyz']\n"
          ]
        }
      ]
    },
    {
      "cell_type": "markdown",
      "source": [
        "vi) Tuples:\n"
      ],
      "metadata": {
        "id": "DNu-F6EK5G6z"
      }
    },
    {
      "cell_type": "code",
      "source": [
        "tup1 = ('math', 'python', 'chemistry', 1234)\n",
        "tup2 = (1,2,3,4,5)\n",
        "tup3 = ()"
      ],
      "metadata": {
        "id": "pR0vBntr5JMV"
      },
      "execution_count": null,
      "outputs": []
    },
    {
      "cell_type": "markdown",
      "source": [
        "vii) Loops:\n",
        "\n"
      ],
      "metadata": {
        "id": "-nxoo_Af5Ytv"
      }
    },
    {
      "cell_type": "markdown",
      "source": [
        "a) If Sentence:"
      ],
      "metadata": {
        "id": "NZxIqDL65kZg"
      }
    },
    {
      "cell_type": "code",
      "source": [
        "x = 1\n",
        "if x == 1:\n",
        "# intended four spaces\n",
        "    print(\"x is 1\")"
      ],
      "metadata": {
        "colab": {
          "base_uri": "https://localhost:8080/"
        },
        "id": "iEF7B_TS5efJ",
        "outputId": "8ee4e168-924e-41b5-816d-0cd4259617a5"
      },
      "execution_count": null,
      "outputs": [
        {
          "output_type": "stream",
          "name": "stdout",
          "text": [
            "x is 1\n"
          ]
        }
      ]
    },
    {
      "cell_type": "markdown",
      "source": [
        "b) While Loop:"
      ],
      "metadata": {
        "id": "goApiUhi6Zmo"
      }
    },
    {
      "cell_type": "code",
      "source": [
        "count = 0\n",
        "while (count < 9):\n",
        "    print(\"The count is:\", count)\n",
        "    count = count + 2\n",
        "print(\"Goodbye, World!\")"
      ],
      "metadata": {
        "colab": {
          "base_uri": "https://localhost:8080/"
        },
        "id": "r_Q4wCcD6bXI",
        "outputId": "5da7818e-b1e2-4c40-e885-4da3ad06e59e"
      },
      "execution_count": null,
      "outputs": [
        {
          "output_type": "stream",
          "name": "stdout",
          "text": [
            "The count is: 0\n",
            "The count is: 2\n",
            "The count is: 4\n",
            "The count is: 6\n",
            "The count is: 8\n",
            "Goodbye, World!\n"
          ]
        }
      ]
    },
    {
      "cell_type": "code",
      "source": [],
      "metadata": {
        "id": "gE3MAnyZ7K-y"
      },
      "execution_count": null,
      "outputs": []
    },
    {
      "cell_type": "markdown",
      "source": [
        "Using while loop write the infinite loop"
      ],
      "metadata": {
        "id": "pDL0N6A98Hbl"
      }
    },
    {
      "cell_type": "code",
      "source": [
        "#put this code in comment so I could continue running the next code lines\n",
        "'''\n",
        "count = 0\n",
        "while (count < 9):\n",
        "    print(\"The count is:\", count)\n",
        "print(\"Goodbye, World!\")\n",
        "\n",
        "'''"
      ],
      "metadata": {
        "colab": {
          "base_uri": "https://localhost:8080/",
          "height": 53
        },
        "id": "4A3ejq3S8Ti4",
        "outputId": "c7a79305-b5d8-415c-d3a8-115e3e53ac72"
      },
      "execution_count": null,
      "outputs": [
        {
          "output_type": "execute_result",
          "data": {
            "text/plain": [
              "'\\ncount = 0\\nwhile (count < 9):\\n    print(\"The count is:\", count)\\nprint(\"Goodbye, World!\")\\n\\n'"
            ],
            "application/vnd.google.colaboratory.intrinsic+json": {
              "type": "string"
            }
          },
          "metadata": {},
          "execution_count": 39
        }
      ]
    },
    {
      "cell_type": "markdown",
      "source": [
        "c) For Loop:"
      ],
      "metadata": {
        "id": "4BT4B0Px83Li"
      }
    },
    {
      "cell_type": "code",
      "source": [
        "# Prints out the numbers 0,1,2,3,4\n",
        "for x in range(5):\n",
        "    print(x)\n"
      ],
      "metadata": {
        "colab": {
          "base_uri": "https://localhost:8080/"
        },
        "id": "Ft8SBQBN854d",
        "outputId": "ebe6f852-224f-49ba-e6a2-8ec7e27cae0c"
      },
      "execution_count": null,
      "outputs": [
        {
          "output_type": "stream",
          "name": "stdout",
          "text": [
            "0\n",
            "1\n",
            "2\n",
            "3\n",
            "4\n"
          ]
        }
      ]
    },
    {
      "cell_type": "code",
      "source": [
        "# Prints out 3,4,5\n",
        "for x in range(3,6):\n",
        "    print(x)"
      ],
      "metadata": {
        "colab": {
          "base_uri": "https://localhost:8080/"
        },
        "id": "uPrKkVjM-sJs",
        "outputId": "fa74979a-f1f1-45e6-9e8f-13d0ee0fc4d0"
      },
      "execution_count": null,
      "outputs": [
        {
          "output_type": "stream",
          "name": "stdout",
          "text": [
            "3\n",
            "4\n",
            "5\n"
          ]
        }
      ]
    },
    {
      "cell_type": "code",
      "source": [
        "# Prints out 3,5,7\n",
        "for x in range(3,8,2):\n",
        "    print(x)"
      ],
      "metadata": {
        "colab": {
          "base_uri": "https://localhost:8080/"
        },
        "id": "Ytp8-ud3-6G7",
        "outputId": "de4a0041-fe13-4ca8-80c7-a3681f9759c7"
      },
      "execution_count": null,
      "outputs": [
        {
          "output_type": "stream",
          "name": "stdout",
          "text": [
            "3\n",
            "5\n",
            "7\n"
          ]
        }
      ]
    },
    {
      "cell_type": "markdown",
      "source": [
        "viii) File Read/Write"
      ],
      "metadata": {
        "id": "nAArkXbD_Wn-"
      }
    },
    {
      "cell_type": "code",
      "source": [
        "fo = open(\"testfile.txt\", \"w\")\n",
        "print (\"Name of the file: \", fo.name)\n",
        "print (\"Closed or not : \", fo.closed)\n",
        "print (\"Opening mode : \", fo.mode)"
      ],
      "metadata": {
        "colab": {
          "base_uri": "https://localhost:8080/"
        },
        "id": "SW3M_Yxt_aQy",
        "outputId": "31a1efc8-abb4-4b48-ce89-daa50e341988"
      },
      "execution_count": null,
      "outputs": [
        {
          "output_type": "stream",
          "name": "stdout",
          "text": [
            "Name of the file:  testfile.txt\n",
            "Closed or not :  False\n",
            "Opening mode :  w\n"
          ]
        }
      ]
    },
    {
      "cell_type": "code",
      "source": [
        "fo = open(\"Foo.txt\", \"w\")\n",
        "fo.write(\"Python\");\n",
        "# Close opened file\n",
        "fo.close()"
      ],
      "metadata": {
        "id": "p2XuYm06CU-H"
      },
      "execution_count": null,
      "outputs": []
    },
    {
      "cell_type": "code",
      "source": [
        "from google.colab import files\n",
        "files.download('/content/Foo.txt')\n"
      ],
      "metadata": {
        "colab": {
          "base_uri": "https://localhost:8080/",
          "height": 17
        },
        "id": "wVH26FasFLVk",
        "outputId": "34ac6195-370c-48d2-ae6e-b0a7ab0feea3"
      },
      "execution_count": null,
      "outputs": [
        {
          "output_type": "display_data",
          "data": {
            "text/plain": [
              "<IPython.core.display.Javascript object>"
            ],
            "application/javascript": [
              "\n",
              "    async function download(id, filename, size) {\n",
              "      if (!google.colab.kernel.accessAllowed) {\n",
              "        return;\n",
              "      }\n",
              "      const div = document.createElement('div');\n",
              "      const label = document.createElement('label');\n",
              "      label.textContent = `Downloading \"${filename}\": `;\n",
              "      div.appendChild(label);\n",
              "      const progress = document.createElement('progress');\n",
              "      progress.max = size;\n",
              "      div.appendChild(progress);\n",
              "      document.body.appendChild(div);\n",
              "\n",
              "      const buffers = [];\n",
              "      let downloaded = 0;\n",
              "\n",
              "      const channel = await google.colab.kernel.comms.open(id);\n",
              "      // Send a message to notify the kernel that we're ready.\n",
              "      channel.send({})\n",
              "\n",
              "      for await (const message of channel.messages) {\n",
              "        // Send a message to notify the kernel that we're ready.\n",
              "        channel.send({})\n",
              "        if (message.buffers) {\n",
              "          for (const buffer of message.buffers) {\n",
              "            buffers.push(buffer);\n",
              "            downloaded += buffer.byteLength;\n",
              "            progress.value = downloaded;\n",
              "          }\n",
              "        }\n",
              "      }\n",
              "      const blob = new Blob(buffers, {type: 'application/binary'});\n",
              "      const a = document.createElement('a');\n",
              "      a.href = window.URL.createObjectURL(blob);\n",
              "      a.download = filename;\n",
              "      div.appendChild(a);\n",
              "      a.click();\n",
              "      div.remove();\n",
              "    }\n",
              "  "
            ]
          },
          "metadata": {}
        },
        {
          "output_type": "display_data",
          "data": {
            "text/plain": [
              "<IPython.core.display.Javascript object>"
            ],
            "application/javascript": [
              "download(\"download_b1805598-4856-43be-8a6e-1e80825d80c2\", \"Foo.txt\", 6)"
            ]
          },
          "metadata": {}
        }
      ]
    },
    {
      "cell_type": "markdown",
      "source": [
        "![Snapshot.png](data:image/png;base64,iVBORw0KGgoAAAANSUhEUgAAAqwAAAFaCAYAAADb4Q+pAAAAAXNSR0IArs4c6QAAAARnQU1BAACxjwv8YQUAAAAJcEhZcwAAFiUAABYlAUlSJPAAACyrSURBVHhe7d0LlCVVfe/x3fNgegRR7l3rigEdSOIdXoYIukREJyAOD3mFIQaVRMAFxkTIVSASRwEf44UQ4IZRFFAYIw81DAIDIo+AE0AxwCA6IAQizg2orHVz1SyuTJLF9K3/rtrd1afrnKratavqX3W+H6h1+pw+XbVftc9vdtc5PTGx9Y5TZlxNbTGLJxeabbdZbObPm0geDCDgrqqYKtGzfkVWUtEReje4yzR578/s0OOvhQYbrELoItQ9Xip2weZ//0/zf3/1/6Jjz4v2JTsL3aeh1d2gVYwqW51lcfsu0jZV+3ewHqHHS9F2Cn3ckKQOmsvnL5olxlQUVrfaaoHZevGisGEVAFDI5KKFZputJ6OvtsQPAMAQYxpYp8y8KKRObrXQLFw4P3kMANC0l75k0syfH70UTRFaAQw3noF1aspsFQXVRYvm93ThHAC6Qa4E2CYKrfGvMgEg29heErBg/ny7AQDatXjRwuQrQiuAbGMZWOXXT7KxugoA7ZNLtBYuWGB/+6UXrxgoQ8aL25rU33E6hoF1ysybmLATZC36O1YAhMRcMcu8+VobRMpFZ7VL/iHD6vu4CxpYF5z0Ebs5Ze83QsZ8NPdM2I9QCYg5DUARzBWZ5s+TlyNtoYSOaldXgyrjpg5BAutZDz9hPr7h8eSeMX/5wGPmzAceTe4Zc/r9PzSnffcHyT1j/vzeh80p92xI7hnzgW8/aPZ+70nJvWYEHU6MTQBFMFcMxacLoj+aDNldDPR+ggTWLVNTdhP77r1n9PUWs2VLfP+Nr3tt9PUW82K0iTfsuUf09czz93rtbvbrpgMr0GvjM4chBMYLvMm/NPrwr42iJ0HRusr+3NZnzfV9kL909dEHH7PXykvwnEo2+7X8F+XULXKbftxuUTfOuj9lvnjgPskeaxQdZ+HCeWbbrSfNoq0WJA9WpPRcjapamF8V9E5SvZ0i8pq8txXPEnr8NdB4Tfdf0SbyPW6oLoiO/2/Pv2Ce//V/RPus+uktrjIhCldlHw2Mp1maHlw+yrZnXpmr9nHZNgkxpkKTOrRVLnfcZsZWmBXWLVPmRbuqGm3R7YtRUpIgOutx+VpWVqe3eNXVfp08HwhhbEcSpxB89GrcRJWZfu3mhMAoZceHxrBalbSBz3kibVFXewzfb5DAagNqEjzjUBqH1OlAar+XBFe5TQJqvLnnMrmEFDXtWGIUAaNdedlnzafPWRnfyTlh5HkXX3RufKcuwU7aaEfuta6P2QKoTZmT0J1c8jNuC2n4/oJcEiBvqHK/3v/smmuTR/P91k6vMm96/V725+S/rxy8X/KdGkXH8r0k4IrLP2uWH3hAcm+22++8y5x48geTe+3yCat+87u+V4XQp446o5q895UfFHL8NdR4eUUOXYyM40kIPeGP322u/NtrzMfOXhU/mEGed+w7jzYf/ouPmZtuvjV+cJBvF2TU89+e32ye//W/R/v0vSQg2mm6PPYY/mNkyat3MPfesda8aumbkkfKamhMTWt6cPko2x95Zfbv3/LtUeVYdZJ6+JYt3QZF9yHPa2csBXvTlbsMoAx5ur1kQH62QyusL7yw2Tz9k02ztmd/+rPku8154xv2NhdfeJ751DkzqyVlusD+/EXnzay2AHWQ+S29qSInTHfmnhA+ds4qG1YltA479wuF1Z478h3LzY47vDK5B6BtQVZY5WOq7CqpDUxxcHVvpJL/JIu6++nvDT7+1cOWJXusUXScqiusElDfcsAhyaPtueKyuDxudTeqWilXJvWxP3+Sz+qwuvTR/+gxqsk1Vj6rvMHKWXX8tdBgeUUOXaQRx5teaf3yNTbEOqXCqm8XZNRT2wrrqR84wfzN+eeYiW12Sh4pq+nx1fTg8lG2P/LK7N+/5dujyrHqJPXwLVu6DYruQ57XzlgKcw2rXKMqm10tnX2d6uxrWpPnRdv049Fz7ddl0xYAeGO+sSutUVg94b0zK62srHaV1jCF/mlv7gyywvqn6x+0q3uyUvrFa65LHs235FU7mtfL57RGPyc/e92R2deHBhUdp+4VVvlV+8ozTze77rLULF48aR/70eNPmNWXXDbnRaDMc9Oe+fFjyVczpFynRS80V3/5cruvsz7xGfOlNVfZ773v+OPMJ8/+qPnFL35pDj78GPO9e++0j6fZeu1fZuVY3yTZ+xgyrMm1VjyrvMHKWmX8tdRgeUUOXaxRx0uOZVdao9C64eFH7DxUKqz6dkFGPfu1whq6I0cpWscmyzRM2f7IK3PAAZjLfyzplW4H/fUL9rFW8Qpq/McBipv9UVd9cMRhh5ir1lxu9nrdnmbz5vhaVwmJ8kJwycUXmBOj4OiUee4g+TW+PF/Irdz/9vp7zfceeMh887Y77OMfOvVP7a1wX1908SXmmWd/OvTnu6wfI6gkqfRYVhyVpMaMrLRKWJV56J77vsvKqjd3MjZ1QkrA6FKIKlPWIu3oU/cm+wehBVlhPfmu7xnJm+nrUeOvZ/8xgZnvyZBJ348fu+HoA5M91ig6kNcKa3RuuGtG5U1XP3/uueQbMbfies9dt5qdd1piXwCOWPEu+5i4ae219gVBAulr997XPlbmuVlGXcN6793xvq/88tVm25dta1Ycdbi59777zR8ed2LyjP5cw5qqdv+lm7wLFc8aIsHKXWX8tdR4eUUOXawC7e8uA5CwuvzA/edc05rLpxsy6tnWCqt8GoC8wWrQG/be0xx37O+bPz/jE8kjs914y+1m0/9+NrkXuuOKKNvwbZQxrUh5i5TRZ8CJqvX3Pa5m6TZpq35y3GJ9EySwvu/O+5PQKQE0OnTydXw/upX/osfnhteZ58r31h0zd9IILjpO6cCa9KMLiFl2/M3d7K/3137tK/b+Pm850K5kOjvu8Bvm/nviX8Ov+MM/srdFnyurplnSgfWEgcApZbn+61+xoXdyctKu4MqlAOnjEFg7KN3kXah41hAJVu4q46+lxssrcuhiDR5vYP+D16y6ywNKhVafbsioZ1uB9V+euN/r0wB+sPFxs+c+Byf3QndcEWUavo3yDSpS3rxy+gw2p2obVDl2SFKPUGVxbaKlbqMFvCQgDp1XX3ejuWbtTeba69eZr37jZvP1G24xf3fDN811N37TXH/TreYb675lbrj5Nvuv04cf+WF8KUHyJq2ukF+hS0BNb2L33Xe1tyIdDEX6vjyvzHN9SMiVldvttnu5vZ71hptumXOcPujOqEH7ZLS4bQwNVDvrDVZZb8TqBv8+fdXSfczENkvmbG5lVa5hzdpmwqrQ+oI/xuM9qG4Euma01xaBPod15t3+ZUhGnf4rWaWvf21Iib559NEfJV/Fq6Rp6fu333FXqef6kBVWuRZWVljFUUe8Y85xuo5pGMWN6Whx1R6oflZYdboXWpPKpefqSt0tO+pDQBnTMR9UX8ZCFp/x0W5bBFthdR9T9QdHHmpWHHGoOfqIQ8zvH36wOeqwg8wR71huDj/07eawQ95uDj34QHPIQW8zBy8/wOy++y72Z9wKrSoe41RWNV1AlDdNpbn7sjorK51lnivkDVjyRwKKhs7PXXy+XVn98lXXTq+0XnDep5PvdpuMFKZioKCBk2VUWHXSofWMD5+SPKpRVLmhc7XPi6vPz2jEDFldX8ZCmnv1TI+PIvWU57TfHmE+hzVZYZVf68d/8UpCaLylPwVAPkVgOqDa57ktvixAjQr9svLsT9k3Zcmbpn740HfsG6vkVu7L4+dfeHHyzHLP/eRZHzVHH3W4/Wgq59ln47+u9ZY372uvR3UvLPL1K7ff3gbe8y9cbT5wyml2f/u9eR/78VZO+uflI7tOV/3ClDbGkzGvQ6ho25e9tNBHV7nQqld0MvQxU6ilI7Sgaa7PXdBt70Uo6DWsswKpvS+30f0kkM4KqKnnulDbB/IicNpHVtrPUpU3O8k79eVWVjmPO/6kWS8SZZ4r4VNC52M/eiJ5JH5BkXf+y0qqvHnqrfvtaz8qy70xTD6TVcgq7T33fcd+LR9v5VZps35eu6kWTxZVxr4ZeOH0deqHzswNq47MEfKPXoy79PnWxXOP141qdLRfkE8JeOdN37ZB1L7jX/5Lgmn0f/zY9H339cDj0X/7zn/erHrXu5M91ig63shPCejQuRhVJRi/ajffWDJWYl2cNMdQVjdVGre+/R7wZKkir/hBiikHabC+Pl2SUbzynxIQ7WTYse3+fQo28zPxHw44277BqpgG29waVb/QZRk8ls/+i/RH3n7L9mmVdih7rKZInXzLltUeefuS71dpx3CCBNZ/+v7d5sUXX5wOoaLo7cTERBQgF5pFixaZ33rtW+1jtYqOmxlYtY7NEZImDMKv+nU12uyKZVezgx02jrK6qdK49e33gCdLFXnFD9Y2DdbXp0syiqctsMrns9709S8NfBrAKA22uTWqfqHLknWsssco0h95+yzTp1XboMyxmiT18i1bVpvk7Uu+X7UtwwgSWJ97eoP99b7IC6jO4P0nbv6cefvp8Z8RrVV03DmBVeu4HGGg+Srza4J6Gm5mFXWUDnbaOMrqJu+xW6XPA58wvvKqEKxtGqxv2W4ZUjRtgbW8BtvcGlXW0GUZPJbP/ou0bd5+y/RP1TaoMhbqJPXyLVtWm2it51xBAusXD/iFfbOVz46kqeZPTJhFUXb8o9u3ix+sUw8Ca+iwKso3QT2NVnwUdazTxtGwLvIev2X7vIYTpaq8KgRrmwbrXqRbChSn24G1wfaeNqqsbZQnT4iBUqZ/qrSB7zjQLqtN8uoq39cxnoK86WrbyQnz8sl5ZjuPTX5Ofn7d04uTvTWsS+MyGjN1hNVypMH6ejIjCBVDRMcEOwunTc/IGHObNn0cbE3UScXkVaPBuuXVVVdbBFlh7ZT0Cqss63ZInWG12LCsZ/D6r81DnSLd4j2Oy/S5ommtkWIPHqTB+gfq826tsDbYvkPllVVDGdN8B4pPP4qy9fc9TtdIu+TVdfD7OsZSkBVW9aTtB7eOaX9lFeioNs/9MsfjHAcGNH3CahR6YshrU61tPjEmgbVjJJwObn3lt7o6bpi0i5Gx5LZxIWOD8QHMVscckJ5fxmmO0aP/gbVLc3l0DvQ5nKKsdBghlIzW8RPHq/iMCfSFnAAhzuFQ+ymiqePA6W9gTb/Wd0R/h7+bROIt/R8AH4RV9IF7XQihzteTrr5WufZNb93Vj8Dqwml665h+/9o/5OnS0Q5Gc9LzAEMFwWmYrBnYqFu4V+1QxvAa1imzcH5U7Qk9JzzXqBZB+kBP9fj8L2PevHnRtCwvSUUapI5Gy5tf5JgaOot5EHXTOSl1P7B6nLsL5hf92JSaRWOCa1aBMcb5P23evAkzP9ryJY027Kml21R2lHdcOgpoW3cDa5E5Zg6ZdKbMokkdn7/a1ylw5gpVJnlgKE6PWebPm2cWLIhekkb+Kz763qi5f/pHi744lH4RaVnXyut0tdxtksHMJJHWzcDqNfajjp/aYia3Wmi3trGyitGY4HuN838OCauTixba4Cpz9VxRo7VyWgx2Fp2HOsn4YozNFp/43fxLV1mT1tSLyRdZoipG/y9atMhst+1is3DhfPPrF/7TLNqqnUsDNIbVYq8D+c+qb1W1lVeqlgyrawdO1SLd5F2NwZ0P2VFeGZpsxqyyBDm+okoG6vMXt0yZeRMT5teb/8M8/+vN5sUXXWh1B4h2UrjaRQolRj2voTYs/Je9RNF6iQbHQK5h5c4rY1P1zTpOkf2VKV9R7rgh9p1Vh7z9yvertGUd4jJ3b4W1ZB/Kv9YnF21ltnvZ1ua/vvwl9jqp1kRjgJVVDCdjs8Xx2SkdPZE4/0eS98JuvXgr81+2fYnZ5iWLzMIFC6LH2jgn6Kj2NdHvWufcUGUa3I/GuhY3scNOu3bjzOx2O1uaw2qx5s1+VjPXqvZgAOTKq2MHTtUi3eRdjfTOR+xEUzMWLHJ5iipZa58PCF7tYTtscpCUUaSxHU11KNPOZeqYVra+o45TdF++ZR1Fjh1yv2X3J88t25Z1i8vfjRXWOsZEw1hZBWoi80N608Sd9+N8/jP3jab29a2NE0ptY3RYf9q0m2+66ph+hNXsQc8nAQA5xvEUkTq7DaOpbKP0fN+FwMNAGwf6A2uX/3EQnUPdD6vSAV3uBABAP8kLLGF1XOgNrD3ISd0/jbI7IP6E1fg/YBaGBP++Qw9pHNR9m2ykPlXr5PaR3ppW31jRGVh7MOFzzSrKIeXk46QC6sdc1Ky2guUwVctSX124hrUGfQ6rrKrWgReI4mT8KR+DnCKAcllzrptbOIG1IrCGFI3zfoVVTtx6yaTZg7DqqtGT6gDoKyap7pnpLwJrQP2MdzPXq8p/wCzM/YBSWk7OLpSD1zadZvcZgRVAt8gclt6AoAgv4XCCwtfg2JkisAKAP1KzGqVz5twXRMIq2uPmEuaTbBMKAyt9pQrTN1AEE1drSufMrFDATNe+rp1DIcsbal+D++lamzrZ5dYTWKV8XW3bHhic80u/BgBjhwmrdaUnKfqsPe5VJb25F/5x7BfXBnXoZ5vqCKzjOFaVqvMUwhhzA4vB1X/08WhqX+/qDDkMihl1T4T9DVRcwwp0Qocn/N6+VqUrpqWSUo4WyuIOq6UZNGusjcocqGshp2wjZtXPDVifDgnRXrIPt6GI9gMrfQWM4Duh9oX2CUJT/zRRjhb7Y+xfK4o2QJ/njLJ1kzYLOXCq7s+VPWSZ+mZ429QaWC++6Dxz4vHHJfcGVO33MbbjDr9hrrz8s+aNb9g7eWS89bc9OvCi00gRmSh0aKkfxv61okwDdGDO8Fa2bqPazKedqgxCOV4dfeP2m966bLCNZ9ertsD6qXNWmqOPOtx88uyPxg8knnn6MXPP3bcm95BHgtizUZu9LxX8P7/6ArP8wAPMBX/16eQRf2Wmwnbkl/Dzq/86ao/9o/b4VPJIF+hudR0CttHsea+H6qyY64cWGnDUEAhWFM2Dos55QvbttrpobtumNNkGdfZl0+a2m1dgldA5bLsiClji5lu+ZV54YbN5+ieb7P1xJEFz2CZB1Nc/3Psde/vkU/9sb30MTlN1T1tFrLv+Wts2Z3z4lOje8BIdcdgh0fMeNXfe+g17/x/u/a69ffKpH9tb/Yq09LhP9G2PRq2Gnxdjxev0GGw32UmfzrMydSkzhqq2U4g2LruPrPq5eviUJ8Q5J/twWx3q2m8bsvvIe4X1F7/4pbn9zrvmbPfed7/9/vceeMi8Zre9zFv2P8TeH1d57eTj/AtXmx123s2ccNIHk0dicgnGxg1xmPXV5pB3Qfyt++1rb4d5z7HH2Nvb7rjL3sbtsfuc9tCnyGTlO6E2pe4RUqSNStLcnKXU3fZZ5JjKGrB0cbLGVBcGRdH+lrrUVZ8626lI/crWLauvq6i6P1f2kGVy0u1Sx/6bki77YH+79o+fM7HDTruWGQ2WrKTKyqlPGJ3+2QP6F2SnBlpSVgulrvtVCO2yEiu//j/rE58xX1pzVfJotnvvvtXsvNMSG2bzjBrepQdEQE89tsHe/vZuw69H3bjhPjM5OTnyOTqNanXRZssX5eqQKmvQag3bWYnjDepCs+ZqY+xk9PWgAk+pZLDapY8zrN00D4q8vnaq1KHIMXz3L/se9bN11W/Ufn3qUrScWQaPV2VfaVn1CLXvouR4Pu2ZJV32/Lq1/ykBQMpDG75vFi+eTC4LmEsuB9huu5ebHz3+RPIImldgspKnuK2wgBOv1/ERk34Y0Rfu2+4pTbVxV/tyRFPOVerJnooco67GbqJ+bev7pBOyfm5fWfucO1ZqDayymlr0DVbyDu+b1l5rnnx0g3nmx4+ZHz70HXPFZf7XeXaN1F+uyZQVRlmZlV/tDwtt8gas9HWw7o1Zsroq5Ov097vk6q/+nb19635vsreD3OUAl1/xFXsr4vZ4NLO+8j1pV/m+bA9+965Z7bru+mvs44OfMCD309fJpskKr+wnrK5McgXKGawqsiO3jSuZtEe9yLfUPk13jddxlISjFrqnmqoFbqPCWX0t5XBbWSHGjjt3lYxDtYr3j4oVVlk1u2rN5WbXXZaahx7+vr3G85e/+pX9Vfgd35wbGPpG6n/1l+P6y8qh1F8uJfgfp3zAvHaP/F/vy/Ww8jNyvawofp1s+oTScWLddPOtth7SFln23ut37ffleXk+fc5K88mz/9Js/4r/FrXH3XabXLQoatc/MRdfdK59jnvD1nve/Qf21nH3d1ryanvrSJCVFd4fbnwseaQq3wm17yq0SW+aM+98HINx43V66JjLytNQ5jrHVNn6FXl+6L6uuj/XfiHL5GT1TR3HadvwPvAOrC9/2cvsJwIMbkMNL4P5+EfPMJs3bzb7Lz/MHHvciebEkz9or3GV0CXBZehnuXaAtJOs/A1uaWetPMP+GvwDp5xmDj/6XfbNQ3Ir162+cvvtk2cNJ9e2ys9IyBfytWyjr3kdNtCHPd6cBx7akHlZgNyXxx946OHkkeEkWB77zqOjfwD8k9ljrzdPt4l8Lf8YOPSgt9vPb732a2vt83cbCMhyX4KxHE/+QeEc/o6D7e03brzF3lZT54sDatPIKdL+edgaqbrbSutiu/lWNnRdfeejvHL41i/PqH361KVKGeV4dcznbr+D+66rTbOEPE61cnsHVlllkhXQwS3TiPJJGJBQdsO6W8wzz/40eTR26eVX2tv99t3H3nZRXju5+stq6OCqoQTO0NdqVhsuTZgwX7hsjf3qoLfPHk/uMoEvXBaPi1FkhVTC5sqz5n5W7bfX32e/J/uXMScBdnAldddd/ru54aZv2q8PfNsyeyv2/J3d7ce1FVnh7S03iNKDadi8GkLW8drijt92OWpp6LQRHVrnodPtWncVVWhyIMmxhh3Pt7Hd/obtt8n6taXpgdp0m4asn+zLf3/egVVe5Hfcebc5W1lHHfEOe3vCH7/HXrua3tZ+Lb5O8VU77mBvu0jaSd61P7g5B77t9+ytrCZn+Zdnnk2+qkaGuO6pY6aE8pFoP/v5czY0yiqoI6vt8rh8P89ev/s79vb6r//t9PWrbjvhve+239tzzz3s7Ybv/2DWSqpb2f1C9A8m6T+3LyHXCYf5R0TTk1yNglRF9+hsjv4ztVZuLHmNqSLtJjvuy7lXph6j2sa3PQb3GXrcli2X61uf+oQou+zDbfAzuu1UXMMqNjz8iA1tWdv9//hg8qz+eek2WydfNc13kmrGd+7/R3v7JyedYG/d5QDfuu3v7f2i3LWrWdsjj2y0z7nz79fbW7eSKiu5ElRl9fXJp348/WY2d/3qIz941N4vr8qE2pa6J18m+Bka2kHK0PL4LH34omNI23nn29+h5pAq+xlW9vTjPvVzZQpRvyKkjL79IFw5ffeRru9gnQfviypl7b76AmvJdpUPjZdrV7O2j5+zKnkWxsXV18SfFrDPG19vb93lAbLqWcbHz/nM9PWrg5u7xte90cutpEpAlVVX4a5VlU8bcNevli1D9433JNkMDW3cxX4uWuasF/+2SJl921pDPfLK7lu/KnXz+VnfPhByvDr6wu13cN++beoj5HGKlNs9J/+49QTW/ONOe+xH8a9X8/66UV+5+qeva00r8ikBoxQbBvrIr/3lDVNyWYCsbMqt3B+8znmYZ5/9mb11K7R5Hn3scRtU5bIAWUV1gVnCrFyzut+b97HXr8olCUXL0B8ZE/OwebWUgCMzSHnGVVdniS5qsp1dv4Y8JuMk3CRTdD9Nt3nISTTspNz6JQF/fdHqeHXrdXvOeje2k/VYn8i71CUQycc1DdZVPpapyKcEZAk9TbXh/u/Fl4Ks+uTH7K37U6xFXPg3l9jbo444dNZ1sELuSwhOe3DD9+3tqX92sh2P6etk5ZrV1/z2b9praMN9nFVXZEw2QeYfXvhiZc/UsC8A3Vam3fow3sr0ex31rbMNy47pqmUJURfZh9vK4hz2ET6wevTdRasvsaHtkosvsJ+7Kn8w4KtXXWH/eMAF562aEy66ZNjHWkkYFbJa99Wvr7XXZ174V6vMuuuvtd+XP7N67DtX2Gt7i3ryqX+2t/Jh9/IRY6cPfCxU17hfvcvqqoyP8y9cbe8XIYFz7Q3r7Grpt+9YZ/9AgLSr3Mr9z118fvLMmNu3fFqArLamyTWr27/iFbaPwnyc1TjzneBH6OzcX7Yd6qho4L5oRA1jyIsrR91lkX5ve5DXVceydava3lV/3pU1xD6KqHKc/gkXWCuMgyvWXGVO+8hKu5K105Il9tfj8lFWP3/uOfM/z7+w0LvCtRr2sVa/t2y/5BnGfOycVeZ/rf68+eWv4pVm+b58Lu2H/2Kl+T//+q/Js/LJ9ZoScGUlUPax267ZH77fFRLmXWD3eWf+qR86M2rXL9hxFLfr/rZtZF9/duoZybNmyCUHEkrlDVlp6275ln3c++OsmHMwh4ZBoWRglipGl08mn7K3HVRFXW1etm5Vy1Hl56WsIfqi6D6krHW1+6CQxylb7nLHnthhp12r90JT7arcVIjxXFK1ps/+6akgJ2ZRPR886eq1MD50KdPXqcbK+rG22jJYf5Yd9yErrKlBI1Kcwocv225poetYZjD4lrtMmcseo8i+q7R3nrL9MaosddYla9919medba5Nubq2fg0r/Eg3VxvWbZ8U1WsAtKbsa21lPT5XGmnLkAdxfSH7dNsoTfRd2WMUaQ9NY25UWZqqi+zDbT6KlHOclG/H6oE1xDhAg6qccCiFZq5HW/N+L/ozqxJ9fSGVerktBJ+5U+OgKdIeTZS7yDFGtXmRvh3180W4/VfZhyg6Bqsepyv86ukfWKuOA7SADmsE50a/9KY/x2lQFg0IddLY3kXaJa/csg+31alq+1X5+VD1K7ofKWtT4yXkcXzKXfb5M+3nF1ibaldMD4fBrbu6X4ORely1Vrl5v8jcH1Iv+rPn55xKTbS369eixyoanEZp+gQcps5y9H2SCVk/2VeZ/fnWNT4G17AqVWYa6ob+1Qhl0Pcx3/Og6RdRjcq0W93jbdT+Qx17VJ+XPUaR8VNkn3W3qzPqOKHqkkf24TYfnLPhxH1QPrCGGAdAH3FuZKgy4Se0zfve5fFpBznYuL/wBRhDjQlRztB9Xtf4qVLXYXUc1ddF2mXUzxfh9l9lHyKvnE7V44yDmTYqHlirjgOgrzg3xkfR16E5fAaI98F6pEsnVoiyhu7zOoKTPLdKXYeVqWr7VS1TiLYvup+qbVhGU8fJU70c86bbLW9DI2jujqGzRuhB46Rfe0K8nqlS9MUV2WM5/VgTY12O4bau0jjemi5T0/3Xn3Oca1iV6Po0hK7QPNJcgFI4wXoXSWt719nGrs6DW1k+P+OErN+ocvjWray6jtFU+fNULUOIOri28N2XwnlLjRD9Q2AF/IU5BxuULrC2wiue7CuF1bY1XYZRxytaFnmeb7mls0KNpSrl6IIm6zasX9puY1emqmUoOub6PJ6GCVdnAiuQx82pgxswlIYBMqwMoQLdoBB1rrKPuuqVJseo8zh9nFiGtVeo8eKzn1D9WHQ/vuXUpmw9wtaZwNqyvgzj4Tpew950Tr9HGdLyzrk6xkLfxldefUKEnTyuH7vcXyHbKVSZm+i7tKbaWpvw9SawtkS6st/DuP817IZh/VD3pD2ufR9q3Df9olpF3/paQ33qGkOhxmcbButTtR6uLXz306VzNBSpc5F61zPGCKzAMPWccw0arICbbOqcaKu8AHRdiHpX7Z+m277M8eocdyEUGbtNt6+vrLbuStnT3PkwWB/furj9VG2LrPbN0sU2H1S2DvXVeWL7V7+maMsjx1SJlmxnGBc76lThk3GUDp+odRW98TNtsCJNFMC38bo+DYUYNFXboGwZmjhe2WNUacem2s8dJ0SfD6q671FtUEd5ixhWprzyZP1cqHapo33T2mrr0Fw9dNSbFdaGSXf2ZSj3Um86p42KMLLb0cas0re+HlafYW0bsv4SBtwmfPc9KlSELG8TigakIkLuq4iutfUoZdqu/npPLF26tOneBAAAAApjhRUAAACqEVgBAACgGoEVAAAAqhFYAQAAoBqBFQAAAKoRWAEAAKAagRUAAACqEVgBAACgGoEVAAAAqhFYAQAAoBqBFQAAAKoRWAEAAKAagRUAAACqEVgBAACgGoEVAAAAqhFYAQAAoBqBFQAAAKoRWAEAAKAagRUAAACqEVgBAACgGoEVAAAAqhFYAQAAoBqBFQAAAKoRWGty4403Jl8BAACgCgIrAAAAVCOwAgAAQDUCKwAAAFQjsAIAAEC1fgXWFZeaxx9/3Dx+6YrkAQAAAHRdtcDqAmLGdtuZeyRPCoAgCgAAMLZqW2Fdcvx1Uci81BAxAQAAUEWQwLppzTFml112mdmOWWM22e8sM6tYFQUAAEAF9aywbjzXHLRyffz1Tq8x9uKAPc40t9nLBYatuq4wl9rv32bs1QTpyw1WLYufsmzVzGPJNvzSgz3MmbelnztitTfj0obM/SbPi7/nyus2VpMBAADqUN+brp54Ol5lXbKzWSq3UYi9zGbYZWZ5VrJbsTz6TmT9ZebcjfYRb5vM8igcX2eOX5I8YC0zq247Mw7PKSsujcKmC8Qp9pKGjOdbO58S7X9VXN5p2fsHAABANfUF1qU7G5sXNz1tnrAPGLP29njVdVlGYl2xPI5/629fa2/N2vfPXGLgVmvXr5x96UG0HZSRbpcsW2aPvX6le95KY/ewZH9zWDpRrrjUxFl1k1lzTGq/7pKGJcebUzLCdbz/9M8M2T8AAAAqqyewyq/Ok1XL9Zeda6Yj5drb42C3bPnAr89XGJtXN60xq5O8Wk0cJt8/va+1Js7KS8zOdrk3Nh2SVx40e1U3dUnDspOzVk1l/+mfyd4/AAAAqgsSWONPBEhdz+l+xb5+ZSo0irVm9RpZuxy4LCC5HGBWuK0i47KCJ56O3wY2IwnJUYR2i7qzuHDtLmlIK7R/AAAAhFDTJQHrzUr5VfnstGptvPlu++v29MplvNI5JDjWLXXJwmxPGDIoAABA+4IE1jkfa7XL+83Q7LnxZnO3BMHp6z3jlc5Na1YP/5k6Za2gWkvNznIh7NBACwAAgCbU96aroTaac+3HBSwx+0titZcDbDJ33xzkYoAS3ApqzqcW/OTJMJcpAAAAwEsLgTWSXB+6ZP/DzJmyvJr3UVbuI7KWnRx/RmsQG83Ndqk32u2q5LNfHfnMWPemsVauUwAAAIDTTmB1b75acrw5XvJqXih0lxGYJeb461Jv7oq24X84IN/Gc08z9j1gg/u97vjokfhSh4zLcAEAANCglgKrZND4zVfF3my10Zx70C7GfRxrOPF+j4lTa0r8sVhZn/EKAACAZk0sXbp0Kvm6WclntcoqZh+D4Y033miOPPLI5B4AAAB8tbPCOv2HBdaby1jFBAAAwAjNBVYJqe4aURtW5dfuIz7+CgAAAIi0dA2r/GGBgT+HCgAAAGRo7xrWnuMaVgAAgDAIrAAAAFCttY+1AgAAAIogsAIAAEA1AisAAABUI7ACAABANQIrAAAAVCOwAgAAQDUCKwAAAFQjsAIAAEA1AisAAABUI7ACAABANQIrAAAAVCOwAgAAQDUCKwAAAFQjsAIAAEA1AisAAABUI7ACAABANQIrAAAAVCOwAgAAQDUCKwAAAFQjsAIAAEA1AisAAABUI7ACAABANQIrAAAAVCOwAgAAQDUCKwAAAFQjsAIAAEA1AisAAABUI7ACAABANQIrAAAAVCOwAgAAQDUCKwAAAFQjsAIAAEA1AisAAABUI7ACAABANQIrAAAAVCOwAgAAQDUCKwAAAFQjsAIAAEA1AisAAABUI7ACAABANQIrAAAAVCOwAgAAQDUCKwAAAFQjsAIAAEA1AisAAABUI7ACAABANQIrAAAAVCOwAgAAQDUCKwAAAFQjsAIAAEA1AisAAABUI7ACAABANQIrAAAAVCOwAgAAQDUCKwAAAFQjsAIAAEA1AisAAABUI7ACAABANQIrAAAAVCOwAgAAQDUCKwAAAFQjsAIAAEA1AisAAABUI7ACAABANQIrAAAAVCOwAgAAQDUCKwAAAFQjsAIAAEA1AisAAABUI7ACAABANQIrAAAAVCOwAgAAQDUCKwAAAFQjsAIAAEA1AisAAABUI7ACAABANQIrAAAAVCOwAgAAQDUCKwAAAFQjsAIAAEA1AisAAABUI7ACAABANQIrAAAAVCOwAgAAQDUCKwAAAFQjsAIAAEA1AisAAABUI7ACAABANQIrAAAAVCOwAgAAQDUCKwAAAFQjsAIAAEA1AisAAABUI7ACAABANQIrAAAAVCOwAgAAQDUCKwAAAFQjsAIAAEA1AisAAABUI7ACAABANQIrAAAAVCOwAgAAQDUCKwAAAFQjsAIAAEA1AisAAABUI7ACAABANQIrAAAAVCOwAgAAQDUCKwAAAFQjsAIAAEA1AisAAABUI7ACAABANQIrAAAAVCOwAgAAQDUCKwAAAFQjsAIAAEA1AisAAABUI7ACAABANQIrAAAAVCOwAgAAQDUCKwAAAFQjsAIAAEA1AisAAABUI7ACAABANQIrAAAAVCOwAgAAQDUCKwAAAFQjsAIAAEA1AisAAABUI7ACAABANQIrAAAAVCOwAgAAQDUCKwAAAFQjsAIAAEA1AisAAABUI7ACAABANQIrAAAAVCOwAgAAQDUCKwAAAFQjsAIAAEA1AisAAABUI7ACAABANQIrAAAAVCOwAgAAQDUCKwAAAFQjsAIAAEA1AisAAABUI7ACAABANQIrAAAAVCOwAgAAQDUCKwAAAFQjsAIAAEA1AisAAABUI7ACAABANQIrAAAAVCOwAgAAQDUCKwAAAFQjsAIAAEA1AisAAABUI7ACAABANQIrAAAAVCOwAgAAQDUCKwAAAFQjsAIAAEA1AisAAABUI7ACAABANQIrAAAAVCOwAgAAQDUCKwAAAFQjsAIAAEA1AisAAABUI7ACAABANQIrAAAAVCOwAgAAQDUCKwAAAFQjsAIAAEA1AisAAABUI7ACAABANQIrAAAAVCOwAgAAQDUCKwAAAFQjsAIAAEA1AisAAABUI7ACAABANQIrAAAAVCOwAgAAQDUCKwAAAFQjsAIAAEA1AisAAABUI7ACAABANQIrAAAAVCOwAgAAQDUCKwAAAFQjsAIAAEA1AisAAABUI7ACAABANQIrAAAAVCOwAgAAQDUCKwAAAFQjsAIAAEA1AisAAABUI7ACAABANQIrAAAAFDPm/wMLLuarxKlVqAAAAABJRU5ErkJggg==)"
      ],
      "metadata": {
        "id": "0w1UIfHdF09o"
      }
    },
    {
      "cell_type": "markdown",
      "source": [
        "ix) Plot"
      ],
      "metadata": {
        "id": "FF910TVmGcNl"
      }
    },
    {
      "cell_type": "code",
      "source": [
        "import matplotlib.pyplot as plt\n",
        "import numpy as np\n",
        "\n",
        "t = np.arange(0.0, 2.0, 0.01)\n",
        "s = 1 + np.sin(2*np.pi*t)\n",
        "plt.plot(t, s)\n",
        "\n",
        "plt.xlabel('time (s)')\n",
        "plt.ylabel('voltage (mV)')\n",
        "plt.title('About as simple as it gets, folks')\n",
        "plt.grid(True)\n",
        "plt.savefig(\"test.png\")\n",
        "plt.show()"
      ],
      "metadata": {
        "colab": {
          "base_uri": "https://localhost:8080/",
          "height": 492
        },
        "id": "H60wE46vGkb0",
        "outputId": "0c9fadc5-1029-4324-ea90-df3870ba9772"
      },
      "execution_count": null,
      "outputs": [
        {
          "output_type": "display_data",
          "data": {
            "text/plain": [
              "<Figure size 640x480 with 1 Axes>"
            ],
            "image/png": "[encoded data removed]"
          },
          "metadata": {}
        }
      ]
    },
    {
      "cell_type": "markdown",
      "source": [
        "Explain the first two lines of the code. Read from the internet that why these two lines are there. If these lines were not added in the code, then what should happen. Explain in details?\n",
        "- import matplotlib.pyplot as plt: Imports the pyplot module from the matplotlib library to enable plotting and graphing capabilities in Python. If omitted, we can't create plots, and the code will raise a NameError when trying to use plt.\n",
        "\n",
        "- import numpy as np: Imports the numpy library and gives it the alias np, allowing us to create and manipulate arrays, perform mathematical operations, and handle data efficiently. Without this line, functions like np.arange() or np.sin() will cause a NameError.\n",
        "- If these lines are omitted, the program will throw errors because plt and np will be undefined, meaning you can't plot data or use NumPy's array and mathematical functionalities."
      ],
      "metadata": {
        "id": "KlKwfayeSsgg"
      }
    },
    {
      "cell_type": "code",
      "source": [
        "def print_factors(x):\n",
        "  #This function takes a number and prints the factors\n",
        "   print(\"The factors of\",x,\"are:\")\n",
        "   for i in range(1, x + 1):\n",
        "       if x % i == 0:\n",
        "           print(i)\n",
        "# Change this value for a different result\n",
        "num = 320\n",
        "# uncomment the following lines to take input from user\n",
        "num = int(input(\"Enter a number: \"))\n",
        "print_factors(num)"
      ],
      "metadata": {
        "colab": {
          "base_uri": "https://localhost:8080/"
        },
        "id": "JRuyw55yUIZe",
        "outputId": "d174c22b-208b-4ecb-a8cb-4b01ebb9c8fe"
      },
      "execution_count": null,
      "outputs": [
        {
          "output_type": "stream",
          "name": "stdout",
          "text": [
            "Enter a number: 15\n",
            "The factors of 15 are:\n",
            "1\n",
            "3\n",
            "5\n",
            "15\n"
          ]
        }
      ]
    },
    {
      "cell_type": "markdown",
      "source": [
        "Explain:\n",
        "\n",
        "This code defines a function print_factors(x) that prints the factors of a given number x. It loops through numbers from 1 to x, checking if each number divides x evenly (x % i == 0), and prints the factors.\n",
        "\n",
        "Initially, num = 320 is set, but the line num = int(input(\"Enter a number: \")) allows the user to input a number instead, which is then converted to an integer.\n",
        "The print_factors(num) function is called with the user-input number to print its factors."
      ],
      "metadata": {
        "id": "BqiK6i8sXrgR"
      }
    },
    {
      "cell_type": "markdown",
      "source": [
        "2. Code -2: Multiply 3 x 3 matrix"
      ],
      "metadata": {
        "id": "wXMGX4thYMTc"
      }
    },
    {
      "cell_type": "code",
      "source": [
        "# 3x3 matrix\n",
        "X = [[12,7,3],\n",
        "    [4 ,5,6],\n",
        "    [7 ,8,9]]\n",
        "# 3x4 matrix\n",
        "Y = [[5,8,1,2],\n",
        "     [6,7,3,0],\n",
        "     [4,5,9,1]]\n",
        "# result is 3x4\n",
        "result = [[0,0,0,0],\n",
        "         [0,0,0,0],\n",
        "         [0,0,0,0]]\n",
        "# iterate through rows of X\n",
        "for i in range(len(X)):\n",
        "   # iterate through columns of Y\n",
        "   for j in range(len(Y[0])):\n",
        "       # iterate through rows of Y\n",
        "       for k in range(len(Y)):\n",
        "           result[i][j] += X[i][k] * Y[k][j]\n",
        "for r in result:\n",
        "   print(r)\n"
      ],
      "metadata": {
        "colab": {
          "base_uri": "https://localhost:8080/"
        },
        "id": "fw59Al3gYSAN",
        "outputId": "55a1e53b-c6f2-454a-c4e1-ca2276e2dae1"
      },
      "execution_count": null,
      "outputs": [
        {
          "output_type": "stream",
          "name": "stdout",
          "text": [
            "[114, 160, 60, 27]\n",
            "[74, 97, 73, 14]\n",
            "[119, 157, 112, 23]\n"
          ]
        }
      ]
    },
    {
      "cell_type": "code",
      "source": [
        "vowels = 'aeiou'\n",
        "\n",
        "# Change this value for a different result\n",
        "ip_str = 'Hello, have you tried our tutorial section yet?'\n",
        "\n",
        "# uncomment to take input from the user\n",
        "ip_str = input(\"Enter a string: \")\n",
        "\n",
        "# make it suitable for caseless comparisions\n",
        "ip_str = ip_str.casefold()\n",
        "\n",
        "# make a dictionary with each vowel a key and value 0\n",
        "count = {}.fromkeys(vowels, 0)\n",
        "\n",
        "# count the vowels\n",
        "for char in ip_str:\n",
        "   if char in count:\n",
        "       count[char] += 1\n",
        "\n",
        "print(count)\n"
      ],
      "metadata": {
        "colab": {
          "base_uri": "https://localhost:8080/"
        },
        "id": "E7Zioc0bzo_O",
        "outputId": "fa1edccd-c313-490c-a202-ff0c36faffce"
      },
      "execution_count": null,
      "outputs": [
        {
          "output_type": "stream",
          "name": "stdout",
          "text": [
            "Enter a string: Trinh Nguyen\n",
            "{'a': 0, 'e': 1, 'i': 1, 'o': 0, 'u': 1}\n"
          ]
        }
      ]
    },
    {
      "cell_type": "markdown",
      "source": [
        "#Change the sentence"
      ],
      "metadata": {
        "id": "bp5rx6QX6KtS"
      }
    },
    {
      "cell_type": "code",
      "source": [
        "vowels = 'aeiou'\n",
        "\n",
        "# Change this value for a different result\n",
        "ip_str = 'Hello, have you tried our tutorial section yet?'\n",
        "\n",
        "# uncomment to take input from the user\n",
        "ip_str = input(\"Enter a string: \")\n",
        "\n",
        "# make it suitable for caseless comparisions\n",
        "ip_str = ip_str.casefold()\n",
        "\n",
        "# make a dictionary with each vowel a key and value 0\n",
        "count = {}.fromkeys(vowels, 0)\n",
        "\n",
        "# count the vowels\n",
        "for char in ip_str:\n",
        "   if char in count:\n",
        "       count[char] += 1\n",
        "\n",
        "print(count)\n"
      ],
      "metadata": {
        "colab": {
          "base_uri": "https://localhost:8080/"
        },
        "id": "oJIAyLS46Mhi",
        "outputId": "062dae26-1ee0-4eee-c63e-8effad2049f4"
      },
      "execution_count": null,
      "outputs": [
        {
          "output_type": "stream",
          "name": "stdout",
          "text": [
            "Enter a string: Happy Sunday\n",
            "{'a': 2, 'e': 0, 'i': 0, 'o': 0, 'u': 1}\n"
          ]
        }
      ]
    },
    {
      "cell_type": "code",
      "source": [
        "import hashlib\n",
        "def hash_file(filename):\n",
        "  \"\"\" this function returns the SHA-1 hash of file passed into it\"\"\"\n",
        "    # make a hash object\n",
        "  h = hashlib.sha1()\n",
        "\n",
        "    # open file for reading in binary mode\n",
        "  with open(filename,'rb') as file:\n",
        "\n",
        "        # loop till the end of the file\n",
        "        chunk = 0\n",
        "        while chunk != b'':\n",
        "            #read only 1024 bytes at a time\n",
        "            chunk = file.read(1024)\n",
        "            h.update(chunk)\n",
        "\n",
        "    # return the hex representation of digest\n",
        "  return h.hexdigest()\n",
        "message = hash_file(\"Foo.txt\")\n",
        "print(message)\n"
      ],
      "metadata": {
        "colab": {
          "base_uri": "https://localhost:8080/"
        },
        "id": "GakW0yls7nT_",
        "outputId": "9da81b3f-78d0-41f0-8b84-60d8ab5641f4"
      },
      "execution_count": null,
      "outputs": [
        {
          "output_type": "stream",
          "name": "stdout",
          "text": [
            "6e3604888c4b4ec08e2837913d012fe2834ffa83\n"
          ]
        }
      ]
    },
    {
      "cell_type": "markdown",
      "source": [
        "Code - 5: Check for Palidrome sentence"
      ],
      "metadata": {
        "id": "QYKqm7RtLbx5"
      }
    },
    {
      "cell_type": "code",
      "source": [
        "my_str = 'aIbohPhoBiA'\n",
        "\n",
        "# make it suitable for caseless comparison\n",
        "my_str = my_str.casefold()\n",
        "\n",
        "# reverse the string\n",
        "rev_str = reversed(my_str)\n",
        "\n",
        "# check if the string is equal to its reverse\n",
        "if list(my_str) == list(rev_str):\n",
        "   print(\"It is a palindrome.\")\n",
        "else:\n",
        "   print(\"It is not a palindrome.\")"
      ],
      "metadata": {
        "colab": {
          "base_uri": "https://localhost:8080/"
        },
        "id": "V9sGRM_JLgbD",
        "outputId": "4b4fdfb6-2ed4-42f3-cfa2-31d129ed1980"
      },
      "execution_count": null,
      "outputs": [
        {
          "output_type": "stream",
          "name": "stdout",
          "text": [
            "The string is a palindrome.\n"
          ]
        }
      ]
    },
    {
      "cell_type": "markdown",
      "source": [
        "Code - 6: A very basic Machine Learning Example:"
      ],
      "metadata": {
        "id": "iy41ebdNxwXZ"
      }
    },
    {
      "cell_type": "code",
      "source": [
        "#import libraries\n",
        "import pandas\n",
        "from pandas.plotting import scatter_matrix\n",
        "import matplotlib.pyplot as plt\n",
        "from sklearn import model_selection\n",
        "from sklearn.metrics import classification_report\n",
        "from sklearn.metrics import confusion_matrix\n",
        "from sklearn.metrics import accuracy_score\n",
        "from sklearn.linear_model import LogisticRegression\n",
        "from sklearn.tree import DecisionTreeClassifier\n",
        "from sklearn.neighbors import KNeighborsClassifier\n",
        "from sklearn.discriminant_analysis import LinearDiscriminantAnalysis\n",
        "from sklearn.naive_bayes import GaussianNB\n",
        "from sklearn.svm import SVC\n",
        "\n",
        "# Load dataset from internet\n",
        "url = \"https://archive.ics.uci.edu/ml/machine-learning-databases/iris/iris.data\"\n",
        "names = ['sepal-length', 'sepal-width', 'petal-length', 'petal-width', 'class']\n",
        "dataset = pandas.read_csv(url, names=names)\n",
        "\n",
        "# size of dataset matrix\n",
        "print(dataset.shape)\n",
        "# print the peak of data\n",
        "print(dataset.head(20))\n",
        "# print the summary of data\n",
        "print(dataset.describe())\n",
        "# names of class and their size\n",
        "print(dataset.groupby('class').size())\n",
        "#plot each class separately\n",
        "dataset.plot(kind='box', subplots=True, layout=(2,2), sharex=False, sharey=False)\n",
        "plt.show()"
      ],
      "metadata": {
        "colab": {
          "base_uri": "https://localhost:8080/",
          "height": 1059
        },
        "id": "kpyEisERx4TQ",
        "outputId": "974ffd11-cc30-4836-c8e2-e86dacb4b222"
      },
      "execution_count": null,
      "outputs": [
        {
          "output_type": "stream",
          "name": "stdout",
          "text": [
            "(150, 5)\n",
            "    sepal-length  sepal-width  petal-length  petal-width        class\n",
            "0            5.1          3.5           1.4          0.2  Iris-setosa\n",
            "1            4.9          3.0           1.4          0.2  Iris-setosa\n",
            "2            4.7          3.2           1.3          0.2  Iris-setosa\n",
            "3            4.6          3.1           1.5          0.2  Iris-setosa\n",
            "4            5.0          3.6           1.4          0.2  Iris-setosa\n",
            "5            5.4          3.9           1.7          0.4  Iris-setosa\n",
            "6            4.6          3.4           1.4          0.3  Iris-setosa\n",
            "7            5.0          3.4           1.5          0.2  Iris-setosa\n",
            "8            4.4          2.9           1.4          0.2  Iris-setosa\n",
            "9            4.9          3.1           1.5          0.1  Iris-setosa\n",
            "10           5.4          3.7           1.5          0.2  Iris-setosa\n",
            "11           4.8          3.4           1.6          0.2  Iris-setosa\n",
            "12           4.8          3.0           1.4          0.1  Iris-setosa\n",
            "13           4.3          3.0           1.1          0.1  Iris-setosa\n",
            "14           5.8          4.0           1.2          0.2  Iris-setosa\n",
            "15           5.7          4.4           1.5          0.4  Iris-setosa\n",
            "16           5.4          3.9           1.3          0.4  Iris-setosa\n",
            "17           5.1          3.5           1.4          0.3  Iris-setosa\n",
            "18           5.7          3.8           1.7          0.3  Iris-setosa\n",
            "19           5.1          3.8           1.5          0.3  Iris-setosa\n",
            "       sepal-length  sepal-width  petal-length  petal-width\n",
            "count    150.000000   150.000000    150.000000   150.000000\n",
            "mean       5.843333     3.054000      3.758667     1.198667\n",
            "std        0.828066     0.433594      1.764420     0.763161\n",
            "min        4.300000     2.000000      1.000000     0.100000\n",
            "25%        5.100000     2.800000      1.600000     0.300000\n",
            "50%        5.800000     3.000000      4.350000     1.300000\n",
            "75%        6.400000     3.300000      5.100000     1.800000\n",
            "max        7.900000     4.400000      6.900000     2.500000\n",
            "class\n",
            "Iris-setosa        50\n",
            "Iris-versicolor    50\n",
            "Iris-virginica     50\n",
            "dtype: int64\n"
          ]
        },
        {
          "output_type": "display_data",
          "data": {
            "text/plain": [
              "<Figure size 640x480 with 4 Axes>"
            ],
            "image/png": "[encoded data removed]"
          },
          "metadata": {}
        }
      ]
    },
    {
      "cell_type": "markdown",
      "source": [
        "2.2. EXAMPLE: CALCULATING THE ROOTS OF THE QUADRATIC EQUATION"
      ],
      "metadata": {
        "id": "xGrLpAfYMNzc"
      }
    },
    {
      "cell_type": "code",
      "source": [
        "\"\"\"Simple Quadratic Equation Solver\"\"\"\n",
        "a, b, c = eval(input(\"Enter a, b, c: \"))\n",
        "discriminant = b * b - 4 * a * c\n",
        "if discriminant < 0:\n",
        "    print(\"The equation has no real roots\")\n",
        "elif discriminant == 0:\n",
        "    r1 = -b / (2 * a)\n",
        "    print(\"The root is \" + str(r1))\n",
        "else:\n",
        "# (discriminant > 0)\n",
        "    r1 = (-b + discriminant ** 0.5) / (2 * a)\n",
        "    r2 = (-b - discriminant ** 0.5) / (2 * a)\n",
        "    print(\"The roots are\", r1, \"and\", r2)"
      ],
      "metadata": {
        "colab": {
          "base_uri": "https://localhost:8080/"
        },
        "id": "DN4Eq0twMUlX",
        "outputId": "038fba1d-1617-4080-92bd-3117b63aefb7"
      },
      "execution_count": null,
      "outputs": [
        {
          "output_type": "stream",
          "name": "stdout",
          "text": [
            "Enter a, b, c: 4,-1,0\n",
            "The roots are 0.25 and 0.0\n"
          ]
        }
      ]
    }
  ]
}