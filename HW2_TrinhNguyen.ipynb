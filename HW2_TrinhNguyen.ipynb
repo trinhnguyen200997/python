{
  "nbformat": 4,
  "nbformat_minor": 0,
  "metadata": {
    "colab": {
      "provenance": []
    },
    "kernelspec": {
      "name": "python3",
      "display_name": "Python 3"
    },
    "language_info": {
      "name": "python"
    }
  },
  "cells": [
    {
      "cell_type": "code",
      "execution_count": null,
      "metadata": {
        "id": "Emm8nM5wIWsq"
      },
      "outputs": [],
      "source": []
    },
    {
      "cell_type": "markdown",
      "source": [
        "*   Student Name: Trinh Nguyen\n",
        "*   Class/Section: INF 528, Spring Semester 2025\n",
        "*   Student ID: TN623245\n",
        "*   Date of Submission: 02/23/2025\n"
      ],
      "metadata": {
        "id": "RCL5LB8wIqRx"
      }
    },
    {
      "cell_type": "markdown",
      "source": [
        "5.1. EXAMPLE FOR BUILT IN MATH FUNCTIONS  "
      ],
      "metadata": {
        "id": "sW5omWvkJ1vp"
      }
    },
    {
      "cell_type": "code",
      "source": [
        "import math\n",
        "# Test algebraic functions\n",
        "print(\"exp(1.0) =\", math.exp(1))\n",
        "print(\"log(3.78) =\", math.log(math.e))\n",
        "print(\"log10(10, 10) =\", math.log(10, 10))\n",
        "print(\"sqrt(4.0) =\", math.sqrt(4.0))\n",
        "# Test trigonometric functions\n",
        "print(\"sin(PI / 2) =\", math.sin(math.pi / 2))\n",
        "print(\"cos(PI / 2) =\", math.cos(math.pi / 2))\n",
        "print(\"tan(PI / 2) =\", math.tan(math.pi / 2))\n",
        "print(\"degrees(1.57) =\", math.degrees(1.57))\n",
        "print(\"radians(90) =\", math.radians(90))"
      ],
      "metadata": {
        "colab": {
          "base_uri": "https://localhost:8080/"
        },
        "id": "1-rZMlL0Ixn7",
        "outputId": "3db1eadd-8d6c-404e-a058-13994c111509"
      },
      "execution_count": null,
      "outputs": [
        {
          "output_type": "stream",
          "name": "stdout",
          "text": [
            "exp(1.0) = 2.718281828459045\n",
            "log(3.78) = 1.0\n",
            "log10(10, 10) = 1.0\n",
            "sqrt(4.0) = 2.0\n",
            "sin(PI / 2) = 1.0\n",
            "cos(PI / 2) = 6.123233995736766e-17\n",
            "tan(PI / 2) = 1.633123935319537e+16\n",
            "degrees(1.57) = 89.95437383553924\n",
            "radians(90) = 1.5707963267948966\n"
          ]
        }
      ]
    },
    {
      "cell_type": "markdown",
      "source": [
        "5.2. EXAMPLE GUESS BIRTHDAY"
      ],
      "metadata": {
        "id": "5CH3q2yRJ4cB"
      }
    },
    {
      "cell_type": "code",
      "source": [
        "\"\"\"Example Guess Birthday\"\"\"\n",
        "day = 0 # birth day to be determined\n",
        "\n",
        "# Prompt the user to answer the first question\n",
        "question1 = \"Is your birthday in Set1?\\n\" + \\\n",
        "    \"1  3  5  7\\n\" + \\\n",
        "    \"9 11 13 15\\n\" + \\\n",
        "    \"17 19 21 23\\n\" + \\\n",
        "    \"25 27 29 31\\n\" + \\\n",
        "    \"\\nEnter 0 for No and 1 for Yes: \"\n",
        "answer = eval(input(question1))\n",
        "\n",
        "if answer == 1:\n",
        "   day += 1\n",
        "\n",
        "# Prompt the user to answer the second question\n",
        "question2 = \"Is your birthday in Set2?\\n\" + \\\n",
        "    \" 2  3  6  7\\n\" + \\\n",
        "    \"10 11 14 15\\n\" + \\\n",
        "    \"18 19 22 23\\n\" + \\\n",
        "    \"26 27 30 31\" + \\\n",
        "    \"\\nEnter 0 for No and 1 for Yes: \"\n",
        "answer = eval(input(question2))\n",
        "\n",
        "if answer == 1:\n",
        "   day += 2\n",
        "\n",
        "# Prompt the user to answer the third question\n",
        "question3 = \"Is your birthday in Set3?\\n\" + \\\n",
        "    \" 4  5  6  7\\n\" + \\\n",
        "    \"12 13 14 15\\n\" + \\\n",
        "    \"20 21 22 23\\n\" + \\\n",
        "    \"28 29 30 31\" + \\\n",
        "    \"\\nEnter 0 for No and 1 for Yes: \"\n",
        "answer = eval(input(question3))\n",
        "\n",
        "if answer == 1:\n",
        "   day += 4\n",
        "\n",
        "# Prompt the user to answer the fourth question\n",
        "question4 = \"Is your birthday in Set4?\\n\" + \\\n",
        "    \" 8  9 10 11\\n\" + \\\n",
        "    \"12 13 14 15\\n\" + \\\n",
        "    \"24 25 26 27\\n\" + \\\n",
        "    \"28 29 30 31\" + \\\n",
        "    \"\\nEnter 0 for No and 1 for Yes: \"\n",
        "answer = eval(input(question4))\n",
        "\n",
        "if answer == 1:\n",
        "    day += 8\n",
        "\n",
        "# Prompt the user to answer the fifth question\n",
        "question5 = \"Is your birthday in Set5?\\n\" + \\\n",
        "    \"16 17 18 19\\n\" + \\\n",
        "    \"20 21 22 23\\n\" + \\\n",
        "    \"24 25 26 27\\n\" + \\\n",
        "    \"28 29 30 31\" + \\\n",
        "    \"\\nEnter 0 for No and 1 for Yes: \"\n",
        "answer = eval(input(question5))\n",
        "\n",
        "if answer == 1:\n",
        "    day += 16\n",
        "\n",
        "print(\"\\nYour birthday is \" + str(day) + \"!\")"
      ],
      "metadata": {
        "colab": {
          "base_uri": "https://localhost:8080/"
        },
        "id": "fnIK5ZUYJ8xn",
        "outputId": "5dbc2056-2fb4-430d-c5d6-12d7abd592a9"
      },
      "execution_count": null,
      "outputs": [
        {
          "output_type": "stream",
          "name": "stdout",
          "text": [
            "Is your birthday in Set1?\n",
            "1  3  5  7\n",
            "9 11 13 15\n",
            "17 19 21 23\n",
            "25 27 29 31\n",
            "\n",
            "Enter 0 for No and 1 for Yes: 0\n",
            "Is your birthday in Set2?\n",
            " 2  3  6  7\n",
            "10 11 14 15\n",
            "18 19 22 23\n",
            "26 27 30 31\n",
            "Enter 0 for No and 1 for Yes: 0\n",
            "Is your birthday in Set3?\n",
            " 4  5  6  7\n",
            "12 13 14 15\n",
            "20 21 22 23\n",
            "28 29 30 31\n",
            "Enter 0 for No and 1 for Yes: 1\n",
            "Is your birthday in Set4?\n",
            " 8  9 10 11\n",
            "12 13 14 15\n",
            "24 25 26 27\n",
            "28 29 30 31\n",
            "Enter 0 for No and 1 for Yes: 0\n",
            "Is your birthday in Set5?\n",
            "16 17 18 19\n",
            "20 21 22 23\n",
            "24 25 26 27\n",
            "28 29 30 31\n",
            "Enter 0 for No and 1 for Yes: 1\n",
            "\n",
            "Your birthday is 20!\n"
          ]
        }
      ]
    },
    {
      "cell_type": "markdown",
      "source": [
        "5.3. EXAMPLE TO COMPUTE THE TAX"
      ],
      "metadata": {
        "id": "hqtlUQKcOyg3"
      }
    },
    {
      "cell_type": "code",
      "source": [
        "\n",
        "import sys\n",
        "\n",
        "# Prompt the user to enter filing status\n",
        "status = eval(input(\n",
        "    \"(0-single filer, 1-married jointly,\\n\" +\n",
        "    \"2-married separately, 3-head of household)\\n\" +\n",
        "    \"Enter the filing status: \"))\n",
        "\n",
        "# Prompt the user to enter taxable income\n",
        "income = eval(input(\"Enter the taxable income: \"))\n",
        "\n",
        "# Compute tax\n",
        "tax = 0\n",
        "if status == 0:  # Compute tax for single filers\n",
        "    if income <= 8350:\n",
        "        tax = income * 0.10\n",
        "    elif income <= 33950:\n",
        "        tax = 8350 * 0.10 + (income - 8350) * 0.15\n",
        "    elif income <= 82250:\n",
        "        tax = 8350 * 0.10 + (33950 - 8350) * 0.15 + \\\n",
        "           (income - 33950) * 0.25\n",
        "    elif income <= 171550:\n",
        "        tax = 8350 * 0.10 + (33950 - 8350) * 0.15 + \\\n",
        "            (82250 - 33950) * 0.25 + (income - 82250) * 0.28\n",
        "    elif income <= 372950:\n",
        "        tax = 8350 * 0.10 + (33950 - 8350) * 0.15 + \\\n",
        "            (82250 - 33950) * 0.25 + (171550 - 82250) * 0.28 + \\\n",
        "            (income - 171550) * 0.33\n",
        "    else:\n",
        "        tax = 8350 * 0.10 + (33950 - 8350) * 0.15 + \\\n",
        "              (82250 - 33950) * 0.25 + (171550 - 82250) * 0.28 + \\\n",
        "               (372950 - 171550) * 0.33 + (income - 372950) * 0.35;\n",
        "elif status == 1: # Compute tax for married file jointly\n",
        "      print(\"Left as exercise\")\n",
        "elif status == 2: # Compute tax for married separately\n",
        "      print(\"Left as exercise\")\n",
        "elif status == 3: # Compute tax for head of household\n",
        "      print(\"Left as exercise\")\n",
        "else:\n",
        "      print(\"Error: invalid status\")\n",
        "      sys.exit()\n",
        "\n",
        "# Display the result\n",
        "print(\"Tax is\", format(tax, \".2f\"))"
      ],
      "metadata": {
        "colab": {
          "base_uri": "https://localhost:8080/"
        },
        "id": "I8VhJ4nbO3QR",
        "outputId": "539e3331-a465-4ce3-a257-133adf4bf121"
      },
      "execution_count": null,
      "outputs": [
        {
          "output_type": "stream",
          "name": "stdout",
          "text": [
            "(0-single filer, 1-married jointly,\n",
            "2-married separately, 3-head of household)\n",
            "Enter the filing status: 0\n",
            "Enter the taxable income: 140000\n",
            "Tax is 32920.00\n"
          ]
        }
      ]
    },
    {
      "cell_type": "markdown",
      "source": [
        "5.4. EXAMPLE FOR CALCULATING THE MEAN OF ENTERED NUMBERS"
      ],
      "metadata": {
        "id": "hQa3t-42QsdI"
      }
    },
    {
      "cell_type": "code",
      "source": [
        "\n",
        "print(\"Type integers, each followed by Enter; or ^D or ^Z to finish\")\n",
        "total = 0\n",
        "count = 0\n",
        "while True:\n",
        "    try:\n",
        "        line = input()\n",
        "        if (line):\n",
        "            number = int(line)\n",
        "            total += number\n",
        "            count += 1\n",
        "    except ValueError:\n",
        "        print(\"Invalid number entered:\", line)\n",
        "        continue\n",
        "    except EOFError:\n",
        "        break\n",
        "if count:\n",
        "    print(\"count =\", count, \"total =\", total, \"mean =\", total / count)"
      ],
      "metadata": {
        "colab": {
          "base_uri": "https://localhost:8080/"
        },
        "id": "_anCAizXQxTi",
        "outputId": "12ea4f6e-2b83-4cd6-8649-048f57204d3a"
      },
      "execution_count": null,
      "outputs": [
        {
          "output_type": "stream",
          "name": "stdout",
          "text": [
            "Type integers, each followed by Enter; or ^D or ^Z to finish\n",
            "1\n",
            "2\n",
            "3\n",
            "\u0004\n",
            "count = 3 total = 6 mean = 2.0\n"
          ]
        }
      ]
    },
    {
      "cell_type": "markdown",
      "source": [
        "5.5. EXAMPLE ON WHILE LOOP  "
      ],
      "metadata": {
        "id": "510evC6CVvx9"
      }
    },
    {
      "cell_type": "code",
      "source": [
        "import random\n",
        "import time\n",
        "\n",
        "correctCount = 0 # Count the number of correct answers\n",
        "count = 0 # Count the number of questions\n",
        "NUMBER_OF_QUESTIONS = 5 # Constant\n",
        "\n",
        "startTime = time.time() # Get start time\n",
        "\n",
        "while count < NUMBER_OF_QUESTIONS:\n",
        "    # 1. Generate two random single-digit integers\n",
        "    number1 = random.randint(0, 9)\n",
        "    number2 = random.randint(0, 9)\n",
        "\n",
        "    # 2. If number1 < number2, swap number1 with number2\n",
        "    if number1 < number2:\n",
        "        number1, number2 = number2, number1\n",
        "\n",
        "    # 3. Prompt the student to answer \"what is number1 - number2?\"\n",
        "    answer = eval(input(\"What is \" + str(number1) + \" - \" +\n",
        "        str(number2) + \"? \"))\n",
        "\n",
        "    # 5. Grade the answer and display the result\n",
        "    if number1 - number2 == answer:\n",
        "        print(\"You are correct!\")\n",
        "        correctCount += 1\n",
        "    else:\n",
        "        print(\"Your answer is wrong.\\n\", number1, \"-\",\n",
        "            number2, \"should be\", (number1 - number2))\n",
        "\n",
        "    # Increase the count\n",
        "    count += 1\n",
        "\n",
        "endTime = time.time() # Get end time\n",
        "testTime = int(endTime - startTime) # Get test time\n",
        "print(\"Correct count is\", correctCount, \"out of\",\n",
        "    NUMBER_OF_QUESTIONS, \"\\nTest time is\", testTime, \"seconds\")"
      ],
      "metadata": {
        "colab": {
          "base_uri": "https://localhost:8080/"
        },
        "id": "AF3GpXB9VyCi",
        "outputId": "3d4d1fe1-835f-4b64-a731-1d2dae94e882"
      },
      "execution_count": null,
      "outputs": [
        {
          "output_type": "stream",
          "name": "stdout",
          "text": [
            "What is 3 - 0? 0\n",
            "Your answer is wrong.\n",
            " 3 - 0 should be 3\n",
            "What is 9 - 5? 4\n",
            "You are correct!\n",
            "What is 9 - 6? 3\n",
            "You are correct!\n",
            "What is 3 - 2? 1\n",
            "You are correct!\n",
            "What is 9 - 8? 1\n",
            "You are correct!\n",
            "Correct count is 4 out of 5 \n",
            "Test time is 37 seconds\n"
          ]
        }
      ]
    },
    {
      "cell_type": "markdown",
      "source": [
        "5.6. EXAMPLE CONVERT DECIMAL TO HEXADECIMAL  "
      ],
      "metadata": {
        "id": "RyW10nPWW1u8"
      }
    },
    {
      "cell_type": "code",
      "source": [
        "decimal = eval(input(\"Enter an integer: \"))\n",
        "hexString = \"\"\n",
        "value = decimal\n",
        "while value != 0:\n",
        "    single = value % 16\n",
        "\n",
        "    if single == 15:\n",
        "        hexString = \"F\" + hexString\n",
        "    elif single == 14:\n",
        "        hexString = \"E\" + hexString\n",
        "    elif single == 13:\n",
        "        hexString = \"D\" + hexString\n",
        "    elif single == 12:\n",
        "        hexString = \"C\" + hexString\n",
        "    elif single == 11:\n",
        "        hexString = \"B\" + hexString\n",
        "    elif single == 10:\n",
        "        hexString = \"A\" + hexString\n",
        "    else:\n",
        "        hexString = str(single) + hexString\n",
        "\n",
        "    value = value // 16\n",
        "\n",
        "print(str(decimal) + \"'s hex representation is \" + hexString)"
      ],
      "metadata": {
        "colab": {
          "base_uri": "https://localhost:8080/"
        },
        "id": "987kxzBxW0Dg",
        "outputId": "1b8cd222-218a-4d0b-fbb9-c1f8f5dd5d74"
      },
      "execution_count": 1,
      "outputs": [
        {
          "output_type": "stream",
          "name": "stdout",
          "text": [
            "Enter an integer: 75\n",
            "75's hex representation is 4B\n"
          ]
        }
      ]
    },
    {
      "cell_type": "markdown",
      "source": [
        "5.7. EXAMPLE TO FIND GCD OF THE NUMBERS  "
      ],
      "metadata": {
        "id": "Xb4fGtxqkA33"
      }
    },
    {
      "cell_type": "code",
      "source": [
        "# Enter n1\n",
        "n1 = eval(input(\"Enter the first number: \"))\n",
        "\n",
        "# Enter n2\n",
        "n2 = eval(input(\"Enter the second number: \"))\n",
        "\n",
        "d = n1 if n1 < n2 else n2\n",
        "while d >=1:\n",
        "  if n1 % d == 0 and n2 % d == 0:\n",
        "    break\n",
        "  d -=1\n",
        "print(\"GCD of\", n1, \"and\", n2, \"is\", d)"
      ],
      "metadata": {
        "colab": {
          "base_uri": "https://localhost:8080/"
        },
        "id": "oS7giaF2kCuv",
        "outputId": "55331463-ef80-465b-dbf4-9d8d26c55987"
      },
      "execution_count": null,
      "outputs": [
        {
          "output_type": "stream",
          "name": "stdout",
          "text": [
            "Enter the first number: 48\n",
            "Enter the second number: 18\n",
            "GCD of 48 and 18 is 6\n"
          ]
        }
      ]
    },
    {
      "cell_type": "markdown",
      "source": [
        "5.8. EXAMPLE TO FIND THE FACTOR OF A GIVEN NUMBER"
      ],
      "metadata": {
        "id": "dyF7kBrTny62"
      }
    },
    {
      "cell_type": "code",
      "source": [
        "\"\"\" Finds the Factor of a Given Number\"\"\"\n",
        "# Prompt the user to enter a positive integer\n",
        "#1 is universal factors for all numbers\n",
        "number = eval(input(\"Enter a positive integer: \"))\n",
        "\n",
        "# Find all the smallest factors of the integer\n",
        "print(\"The factors for\", number, \"is\", end = \" \")\n",
        "print(1, end=\" \")\n",
        "for factor in range (2, number+1):\n",
        "    if number % factor == 0:\n",
        "       print(factor, end =\" \")\n"
      ],
      "metadata": {
        "colab": {
          "base_uri": "https://localhost:8080/"
        },
        "id": "z_F6tdGzn12a",
        "outputId": "1d2e3f9b-2c42-47c9-bcaa-d8371c29130b"
      },
      "execution_count": null,
      "outputs": [
        {
          "output_type": "stream",
          "name": "stdout",
          "text": [
            "Enter a positive integer: 12\n",
            "The factors for 12 is 1 2 3 4 6 12 "
          ]
        }
      ]
    },
    {
      "cell_type": "markdown",
      "source": [
        "5.9. EXAMPLE TO FIND THE PRIME NUMBERS"
      ],
      "metadata": {
        "id": "FSQnKMkbvlvP"
      }
    },
    {
      "cell_type": "code",
      "source": [
        "NUMBER_OF_PRIMES = 50  # Number of primes to display\n",
        "NUMBER_OF_PRIMES_PER_LINE = 10 # Display 10 per line\n",
        "count = 0 # Count the number of prime numbers\n",
        "number = 2 # A number to be tested for primeness\n",
        "\n",
        "print(\"The first 50 prime numbers are\")\n",
        "\n",
        "# Repeatedly find prime numbers\n",
        "while count < NUMBER_OF_PRIMES:\n",
        "    # Assume the number is prime\n",
        "    isPrime = True #Is the current number prime?\n",
        "\n",
        "    # Test if number is prime\n",
        "    divisor = 2\n",
        "    while divisor <= number / 2:\n",
        "      if number % divisor == 0:\n",
        "                  # If true, the number is not prime\n",
        "           isPrime = False  # Set isPrime to false\n",
        "           break  # Exit the for loop\n",
        "      divisor += 1\n",
        "\n",
        "       # Display the prime number and increase the count\n",
        "    if isPrime:\n",
        "          count += 1 # Increase the count\n",
        "\n",
        "          print(format(number, \"4d\"), end = \"\")\n",
        "    if count % NUMBER_OF_PRIMES_PER_LINE == 0:\n",
        "           # Display the number and advance to the new line\n",
        "          print() # Jump to the new line\n",
        "\n",
        "          # Check if the next number is prime\n",
        "    number += 1"
      ],
      "metadata": {
        "colab": {
          "base_uri": "https://localhost:8080/"
        },
        "id": "pWmzeNNkvoVT",
        "outputId": "dbad42bd-e461-4b1e-f9ec-8eaf6acbf6bc"
      },
      "execution_count": null,
      "outputs": [
        {
          "output_type": "stream",
          "name": "stdout",
          "text": [
            "The first 50 prime numbers are\n",
            "   2   3   5   7  11  13  17  19  23  29\n",
            "\n",
            "  31  37  41  43  47  53  59  61  67  71\n",
            "\n",
            "  73  79  83  89  97 101 103 107 109 113\n",
            "\n",
            "\n",
            "\n",
            "\n",
            "\n",
            "\n",
            "\n",
            "\n",
            "\n",
            "\n",
            "\n",
            "\n",
            "\n",
            " 127 131 137 139 149 151 157 163 167 173\n",
            "\n",
            "\n",
            "\n",
            "\n",
            "\n",
            " 179 181 191 193 197 199 211 223 227 229\n"
          ]
        }
      ]
    },
    {
      "cell_type": "markdown",
      "source": [
        "5.10. EXAMPLE FOR SIMPLE FUNCTION CALL"
      ],
      "metadata": {
        "id": "IZD97RT85kZT"
      }
    },
    {
      "cell_type": "code",
      "source": [
        "def main():\n",
        "    value = eval(input(\"Enter a number: \"))\n",
        "    print(\"The sum of digits for\", value, \"is\", sumDigits(value))\n",
        "\n",
        "def sumDigits(n):\n",
        "    temp = abs(n)\n",
        "    sum = 0\n",
        "\n",
        "    while temp != 0:\n",
        "        remainder = temp % 10\n",
        "        sum += remainder\n",
        "        temp = temp // 10\n",
        "\n",
        "    return sum\n",
        "\n",
        "main()"
      ],
      "metadata": {
        "colab": {
          "base_uri": "https://localhost:8080/"
        },
        "id": "HOj47fwI50TT",
        "outputId": "572bb008-8570-4a0a-b6d5-03719dfb0805"
      },
      "execution_count": 3,
      "outputs": [
        {
          "output_type": "stream",
          "name": "stdout",
          "text": [
            "Enter a number: 123\n",
            "The sum of digits for 123 is 6\n"
          ]
        }
      ]
    },
    {
      "cell_type": "markdown",
      "source": [
        "5.11. EXAMPLE TO FIND PALINDROME  "
      ],
      "metadata": {
        "id": "szGWVwV2HszH"
      }
    },
    {
      "cell_type": "code",
      "source": [
        "\"\"\"Finds Palindrome\"\"\"\n",
        "def main():\n",
        "   number = eval(input(\"Enter a postive integer: \"))\n",
        "\n",
        "   if isPalindrome(number):\n",
        "          print(number, \"is palindrome\")\n",
        "   else:\n",
        "          print(number, \"is not palindrome\")\n",
        "\n",
        "# Return the reversal of an integer, i.e. reverse(456) returns 654\n",
        "def isPalindrome(number):\n",
        "    return number == reverse(number)\n",
        "\n",
        "# Return the reversal of an integer, i.e. reverse(456) returns 654\n",
        "def reverse(number):\n",
        "    result = 0\n",
        "    while number != 0:\n",
        "        remainder = number % 10\n",
        "        result = result * 10 + remainder\n",
        "        number = number // 10\n",
        "\n",
        "    return result\n",
        "\n",
        "main()"
      ],
      "metadata": {
        "colab": {
          "base_uri": "https://localhost:8080/"
        },
        "id": "aDyDSlPnHuZM",
        "outputId": "e37b4feb-0d4e-4569-d720-9d6062a755bb"
      },
      "execution_count": null,
      "outputs": [
        {
          "output_type": "stream",
          "name": "stdout",
          "text": [
            "Enter a postive integer: 2332\n",
            "2332 is palindrome\n"
          ]
        }
      ]
    },
    {
      "cell_type": "markdown",
      "source": [
        "5.12. EXAMPLE Convert Fahrenheit to Celsius and Celsius to Fahrenheit"
      ],
      "metadata": {
        "id": "9pUcGflXKbiM"
      }
    },
    {
      "cell_type": "code",
      "source": [
        "def main():\n",
        "    print(format(\"Celsius\", \"<15s\"), format(\"Fahrenheit\",\n",
        "\"<15s\"), \"  |    \", format(\"Fahrenheit\", \"<15s\"), format(\"Celsius\",\n",
        "\"<15s\"))\n",
        "    print(\"---------------------------------------------------------------\")\n",
        "\n",
        "    celsius = 40\n",
        "    farenheit = 120\n",
        "    i = 1\n",
        "\n",
        "    while i <= 10:\n",
        "        print(format(celsius, \"<15d\"),\n",
        "format(celsiusToFahrenheit(celsius), \"<15.2f\"), \"  |    \",\n",
        "              format(farenheit, \"<15d\"),\n",
        "format(fahrenheitToCelsius(farenheit), \"<15.2f\"))\n",
        "        celsius -= 1\n",
        "        farenheit -= 10\n",
        "        i += 1\n",
        "def celsiusToFahrenheit(celsius):\n",
        "    return (9.0 / 5.0) * celsius + 32\n",
        "\n",
        "# Converts from Fahrenheit to Celsius\n",
        "def fahrenheitToCelsius(fahrenheit):\n",
        "    return (5.0 / 9) * (fahrenheit - 32)\n",
        "\n",
        "main()"
      ],
      "metadata": {
        "colab": {
          "base_uri": "https://localhost:8080/"
        },
        "id": "X2-wRoBrKekP",
        "outputId": "461b1d3f-5cf7-45e9-e813-e43d09d5022b"
      },
      "execution_count": null,
      "outputs": [
        {
          "output_type": "stream",
          "name": "stdout",
          "text": [
            "Celsius         Fahrenheit        |     Fahrenheit      Celsius        \n",
            "---------------------------------------------------------------\n",
            "40              104.00            |     120             48.89          \n",
            "39              102.20            |     110             43.33          \n",
            "38              100.40            |     100             37.78          \n",
            "37              98.60             |     90              32.22          \n",
            "36              96.80             |     80              26.67          \n",
            "35              95.00             |     70              21.11          \n",
            "34              93.20             |     60              15.56          \n",
            "33              91.40             |     50              10.00          \n",
            "32              89.60             |     40              4.44           \n",
            "31              87.80             |     30              -1.11          \n"
          ]
        }
      ]
    },
    {
      "cell_type": "markdown",
      "source": [
        "5.13. NUMBER CONVERSION"
      ],
      "metadata": {
        "id": "mRn_WYAXLAat"
      }
    },
    {
      "cell_type": "code",
      "source": [
        "def main():\n",
        "    s = input(\"Enter a binary number: \").strip()\n",
        "    print(\"The hex value is\", convertBinaryToHex(s))\n",
        "\n",
        "def convertBinaryToHex(binaryValue):\n",
        "    decimalValue = binaryToDecimal(binaryValue)\n",
        "    return decimalToHex(decimalValue)\n",
        "\n",
        "def binaryToDecimal(binaryString):\n",
        "    value = ord(binaryString[0]) - ord('0')\n",
        "    for i in range(1, len(binaryString)):\n",
        "        value = value * 2 + ord(binaryString[i]) - ord('0')\n",
        "\n",
        "    return value\n",
        "\n",
        "# Convert a decimal to a hex as a string\n",
        "def decimalToHex(decimal):\n",
        "    hex = \"\"\n",
        "\n",
        "    while decimal != 0:\n",
        "        hexValue = decimal % 16;\n",
        "        hex = toHexChar(hexValue) + hex\n",
        "        decimal = decimal // 16\n",
        "\n",
        "    return hex\n",
        "\n",
        "# Convert an integer to a single hex digit in a character\n",
        "def toHexChar(hexValue):\n",
        "    if hexValue <= 9 and hexValue >= 0:\n",
        "        return chr(hexValue + ord('0'))\n",
        "    else: # hexValue <= 15 && hexValue >= 10\n",
        "        return chr(hexValue - 10 + ord('A'))\n",
        "\n",
        "main()\n"
      ],
      "metadata": {
        "colab": {
          "base_uri": "https://localhost:8080/"
        },
        "id": "pg9cwlLOLNAX",
        "outputId": "a948151b-aa0b-45bd-d467-24513a6583fd"
      },
      "execution_count": null,
      "outputs": [
        {
          "output_type": "stream",
          "name": "stdout",
          "text": [
            "Enter a binary number: 1000\n",
            "The hex value is 8\n"
          ]
        }
      ]
    },
    {
      "cell_type": "markdown",
      "source": [
        "5.14. OBJECT BASED SIMPLE INTEREST CALCULATOR  "
      ],
      "metadata": {
        "id": "RVi3hWQUfPoZ"
      }
    },
    {
      "cell_type": "code",
      "source": [
        "\n",
        "\"\"\"Simple OOP Interest Calculater\"\"\"\n",
        "\n",
        "class Account:\n",
        "    # Construct an Account object\n",
        "    def __init__(self, id, balance = 100, annualInterestRate = 0):\n",
        "        self.__id = id\n",
        "        self.__balance = balance\n",
        "        self.__annualInterestRate = annualInterestRate\n",
        "\n",
        "    def getId(self):\n",
        "        return self.__id\n",
        "\n",
        "    def getBalance(self):\n",
        "        return self.__balance\n",
        "\n",
        "    def getAnnualInterestRate(self):\n",
        "        return self.__annualInterestRate\n",
        "\n",
        "    def getMonthlyInterestRate(self):\n",
        "        return self.__annualInterestRate / 12\n",
        "\n",
        "    def setPreviousPrice(self, previousPrice):\n",
        "        self.previousPrice = previousPrice\n",
        "\n",
        "    def setCurrentPrice(self, currentPrice):\n",
        "        self.currentPrice = currentPrice\n",
        "\n",
        "    def withdraw(self, amount):\n",
        "        self.__balance -= amount\n",
        "\n",
        "    def deposit(self, amount):\n",
        "        self.__balance += amount\n",
        "\n",
        "    def getMonthlyInterest(self):\n",
        "        return self.__balance * self.getMonthlyInterestRate()\n",
        "\n",
        "def main():\n",
        "    # Create an account with width 4 and height 40\n",
        "    account = Account(1122, 20000, 4.5)\n",
        "    account.withdraw(2500)\n",
        "    account.deposit(3000)\n",
        "    print(\"ID is\", account.getId())\n",
        "    print(\"Balance is\", account.getBalance())\n",
        "    print(\"Monthly interest rate is\", account.getMonthlyInterestRate())\n",
        "    print(\"Monthly interest is\", account.getMonthlyInterest())\n",
        "\n",
        "main()"
      ],
      "metadata": {
        "colab": {
          "base_uri": "https://localhost:8080/"
        },
        "id": "NmeHo_-ofWjH",
        "outputId": "f51ee3c4-50ff-4d73-ed5e-7f9a12f699a2"
      },
      "execution_count": null,
      "outputs": [
        {
          "output_type": "stream",
          "name": "stdout",
          "text": [
            "ID is 1122\n",
            "Balance is 20500\n",
            "Monthly interest rate is 0.375\n",
            "Monthly interest is 7687.5\n"
          ]
        }
      ]
    },
    {
      "cell_type": "markdown",
      "source": [
        "5.15. OOP FOR FINDING THE ROOTS OF QUADRATIC EQUATION"
      ],
      "metadata": {
        "id": "G5TJ0xHtg4Ev"
      }
    },
    {
      "cell_type": "code",
      "source": [
        "import math\n",
        "class QuadraticEquation:\n",
        "    def __init__(self, a,b,c):\n",
        "      self.__a =a\n",
        "      self.__b =b\n",
        "      self.__c=c\n",
        "    def getA(self):\n",
        "      return self.__a\n",
        "    def getB(self):\n",
        "      return self.__b\n",
        "    def getC(self):\n",
        "      return self.__c\n",
        "    def getDiscriminant(self):\n",
        "      return self.__b**2-4*self.__a*self.__c\n",
        "\n",
        "    def getRoot1(self):\n",
        "        if self.getDiscriminant() < 0:\n",
        "            return 0\n",
        "        else:\n",
        "            return (-self.__b + self.getDiscriminant()) / (2 * self.__a)\n",
        "\n",
        "    def getRoot2(self):\n",
        "        if self.getDiscriminant() < 0:\n",
        "            return 0\n",
        "        else:\n",
        "            return (-self.__b - self.getDiscriminant()) / (2 *\n",
        "self.__a)\n",
        "\n",
        "\n",
        "def main():\n",
        "    a, b, c = eval(input(\"Enter a, b, c: \"))\n",
        "    equation = QuadraticEquation(a, b, c)\n",
        "    discriminant = equation.getDiscriminant()\n",
        "\n",
        "    if discriminant < 0:\n",
        "        print(\"The equation has no roots\")\n",
        "    elif discriminant == 0:\n",
        "        print(\"The root is\", equation.getRoot1())\n",
        "    else: # (discriminant >= 0)\n",
        "        print(\"The roots are\", equation.getRoot1(), \"and\",\n",
        "equation.getRoot2())\n",
        "\n",
        "main()"
      ],
      "metadata": {
        "colab": {
          "base_uri": "https://localhost:8080/"
        },
        "id": "DQ-a9Yowg7eb",
        "outputId": "f543a4c6-c5eb-438d-d081-7804bed2144b"
      },
      "execution_count": null,
      "outputs": [
        {
          "output_type": "stream",
          "name": "stdout",
          "text": [
            "Enter a, b, c: 1,2,3\n",
            "The equation has no roots\n"
          ]
        }
      ]
    },
    {
      "cell_type": "markdown",
      "source": [
        "6 TASK\n",
        "1. Sometimes it is convenient to have a table of sine, cosine, and tangent values instead of using a\n",
        "calculator. Create a table of all three of these trigonometric functions for angles from 0 to 2p, with a\n",
        "spacing of 0.1 radian. Your table should contain a column for the angle and then for the sine, cosine,\n",
        "and tangent."
      ],
      "metadata": {
        "id": "CmgOl_R9kLNd"
      }
    },
    {
      "cell_type": "code",
      "source": [
        "import math\n",
        "\n",
        "# Function to print the table\n",
        "def create_trig_table():\n",
        "    print(\"Angle (radians)    Sine       Cosine     Tangent\")\n",
        "    print(\"----------------------------------------------------\")\n",
        "\n",
        "    # Loop through angles from 0 to 2π with step size of 0.1 radians\n",
        "    for angle in range(0, 63):  # 63 * 0.1 = 6.3 (close to 2π)\n",
        "        radian = angle * 0.1  # Convert angle to radians\n",
        "\n",
        "        sine_value = math.sin(radian)\n",
        "        cosine_value = math.cos(radian)\n",
        "\n",
        "        # Handle tangent undefined case when cosine is 0\n",
        "        if cosine_value != 0:\n",
        "            tangent_value = math.tan(radian)\n",
        "        else:\n",
        "            tangent_value = 'undefined'\n",
        "\n",
        "        # Print the values in a tabular format\n",
        "        print(f\"{radian: <18.1f} {sine_value: <10.4f} {cosine_value: <10.4f} {tangent_value}\")\n",
        "\n",
        "# Call the function to display the table\n",
        "create_trig_table()\n"
      ],
      "metadata": {
        "colab": {
          "base_uri": "https://localhost:8080/"
        },
        "id": "3yuwnClTkN3V",
        "outputId": "7c904bd1-f155-4f7f-e1c2-ef62af6df5de"
      },
      "execution_count": null,
      "outputs": [
        {
          "output_type": "stream",
          "name": "stdout",
          "text": [
            "Angle (radians)    Sine       Cosine     Tangent\n",
            "----------------------------------------------------\n",
            "0.0                0.0000     1.0000     0.0\n",
            "0.1                0.0998     0.9950     0.10033467208545055\n",
            "0.2                0.1987     0.9801     0.2027100355086725\n",
            "0.3                0.2955     0.9553     0.3093362496096233\n",
            "0.4                0.3894     0.9211     0.4227932187381618\n",
            "0.5                0.4794     0.8776     0.5463024898437905\n",
            "0.6                0.5646     0.8253     0.6841368083416924\n",
            "0.7                0.6442     0.7648     0.8422883804630795\n",
            "0.8                0.7174     0.6967     1.0296385570503641\n",
            "0.9                0.7833     0.6216     1.2601582175503392\n",
            "1.0                0.8415     0.5403     1.5574077246549023\n",
            "1.1                0.8912     0.4536     1.9647596572486523\n",
            "1.2                0.9320     0.3624     2.57215162212632\n",
            "1.3                0.9636     0.2675     3.6021024479679786\n",
            "1.4                0.9854     0.1700     5.797883715482894\n",
            "1.5                0.9975     0.0707     14.101419947171719\n",
            "1.6                0.9996     -0.0292    -34.232532735557314\n",
            "1.7                0.9917     -0.1288    -7.696602139459148\n",
            "1.8                0.9738     -0.2272    -4.286261674628062\n",
            "1.9                0.9463     -0.3233    -2.9270975146777714\n",
            "2.0                0.9093     -0.4161    -2.185039863261519\n",
            "2.1                0.8632     -0.5048    -1.7098465429045073\n",
            "2.2                0.8085     -0.5885    -1.3738230567687946\n",
            "2.3                0.7457     -0.6663    -1.1192136417341316\n",
            "2.4                0.6755     -0.7374    -0.9160142896734098\n",
            "2.5                0.5985     -0.8011    -0.7470222972386603\n",
            "2.6                0.5155     -0.8569    -0.6015966130897586\n",
            "2.7                0.4274     -0.9041    -0.4727276291030373\n",
            "2.8                0.3350     -0.9422    -0.3555298316511756\n",
            "2.9                0.2392     -0.9710    -0.24640539397196587\n",
            "3.0                0.1411     -0.9900    -0.1425465430742778\n",
            "3.1                0.0416     -0.9991    -0.041616654585635904\n",
            "3.2                -0.0584    -0.9983    0.058473854459578645\n",
            "3.3                -0.1577    -0.9875    0.15974574766003266\n",
            "3.4                -0.2555    -0.9668    0.26431690086742565\n",
            "3.5                -0.3508    -0.9365    0.3745856401585947\n",
            "3.6                -0.4425    -0.8968    0.4934667299849038\n",
            "3.7                -0.5298    -0.8481    0.6247330752245639\n",
            "3.8                -0.6119    -0.7910    0.7735560905031265\n",
            "3.9                -0.6878    -0.7259    0.9474246499358935\n",
            "4.0                -0.7568    -0.6536    1.1578212823495775\n",
            "4.1                -0.8183    -0.5748    1.4235264831943675\n",
            "4.2                -0.8716    -0.4903    1.7777797745088417\n",
            "4.3                -0.9162    -0.4008    2.28584787736698\n",
            "4.4                -0.9516    -0.3073    3.0963237806497457\n",
            "4.5                -0.9775    -0.2108    4.637332054551185\n",
            "4.6                -0.9937    -0.1122    8.860174895648116\n",
            "4.7                -0.9999    -0.0124    80.71276296747477\n",
            "4.8                -0.9962    0.0875     -11.384870654242807\n",
            "4.9                -0.9825    0.1865     -5.267493065826737\n",
            "5.0                -0.9589    0.2837     -3.380515006246586\n",
            "5.1                -0.9258    0.3780     -2.4493894155845926\n",
            "5.2                -0.8835    0.4685     -1.8856418775197639\n",
            "5.3                -0.8323    0.5544     -1.501273395806927\n",
            "5.4                -0.7728    0.6347     -1.2175408246205552\n",
            "5.5                -0.7055    0.7087     -0.995584052213885\n",
            "5.6                -0.6313    0.7756     -0.8139432836897013\n",
            "5.7                -0.5507    0.8347     -0.6597305715207762\n",
            "5.8                -0.4646    0.8855     -0.5246662219467991\n",
            "5.9                -0.3739    0.9275     -0.40311089987322624\n",
            "6.0                -0.2794    0.9602     -0.29100619138474915\n",
            "6.1                -0.1822    0.9833     -0.18526223068913433\n",
            "6.2                -0.0831    0.9965     -0.08337771486592863\n"
          ]
        }
      ]
    },
    {
      "cell_type": "markdown",
      "source": [
        "\n",
        "2. The vector G=(68, 83, 61, 70, 75, 82, 57, 5, 76, 85, 62, 71, 96, 78, 76, 68, 72, 75, 83, 93)\n",
        "represents the distribution of final grades in a dynamics course. Compute the mean, median, mode,\n",
        "and standard deviation of G.  "
      ],
      "metadata": {
        "id": "gsr-LpnJlAS6"
      }
    },
    {
      "cell_type": "code",
      "source": [
        "import numpy as np\n",
        "from scipy import stats\n",
        "\n",
        "# Given vector G\n",
        "G = [68, 83, 61, 70, 75, 82, 57, 5, 76, 85, 62, 71, 96, 78, 76, 68, 72, 75, 83, 93]\n",
        "\n",
        "# Calculate mean, median, mode, and standard deviation\n",
        "mean_G = np.mean(G)\n",
        "median_G = np.median(G)\n",
        "mode_G = stats.mode(G).mode  # Mode is returned as a scalar\n",
        "std_dev_G = np.std(G)\n",
        "\n",
        "# Print the results\n",
        "print(f\"Mean: {mean_G}\")\n",
        "print(f\"Median: {median_G}\")\n",
        "print(f\"Mode: {mode_G}\")  # Directly print the mode without indexing\n",
        "print(f\"Standard Deviation: {std_dev_G}\")\n"
      ],
      "metadata": {
        "colab": {
          "base_uri": "https://localhost:8080/"
        },
        "id": "szXMyH0PlEVA",
        "outputId": "d1fe7001-31f0-4c3e-8ff2-2202a7ba08a5"
      },
      "execution_count": null,
      "outputs": [
        {
          "output_type": "stream",
          "name": "stdout",
          "text": [
            "Mean: 71.8\n",
            "Median: 75.0\n",
            "Mode: 68\n",
            "Standard Deviation: 18.14552286378103\n"
          ]
        }
      ]
    },
    {
      "cell_type": "markdown",
      "source": [
        "\n",
        "3. Write a program to find the factorial of a given number  \n",
        "a)using for loop\n"
      ],
      "metadata": {
        "id": "nO84Mct374_o"
      }
    },
    {
      "cell_type": "code",
      "source": [
        "def find_factorial():\n",
        "  number =eval(input(\"Enter a number: \"))\n",
        "  result =1\n",
        "  if number < 0:\n",
        "    print(\"Factorial does not exist for negative numbers\")\n",
        "    return None\n",
        "  result =1\n",
        "  for i in range(1, number+1):\n",
        "      result = result*i\n",
        "  return result\n",
        "\n",
        "  print(f\"The factorial of {number} is {result}\")\n",
        "\n",
        "find_factorial()"
      ],
      "metadata": {
        "colab": {
          "base_uri": "https://localhost:8080/"
        },
        "id": "8dzNr5fW78jz",
        "outputId": "70245660-f8ba-4d01-82da-7ae20627a388"
      },
      "execution_count": null,
      "outputs": [
        {
          "name": "stdout",
          "output_type": "stream",
          "text": [
            "Enter a number: 5\n"
          ]
        },
        {
          "output_type": "execute_result",
          "data": {
            "text/plain": [
              "120"
            ]
          },
          "metadata": {},
          "execution_count": 10
        }
      ]
    },
    {
      "cell_type": "markdown",
      "source": [
        "b) Using While loop"
      ],
      "metadata": {
        "id": "SaqugZd0-glA"
      }
    },
    {
      "cell_type": "code",
      "source": [
        "def find_factorial():\n",
        "  number =eval(input(\"Enter a number: \"))\n",
        "  result =1\n",
        "  if number < 0:\n",
        "    print(\"Factorial does not exist for negative numbers\")\n",
        "    return None\n",
        "  i =1\n",
        "  while i <= number:\n",
        "    result = result*i\n",
        "    i +=1\n",
        "  print(f\"The factorial of {number} is {result}\")\n",
        "\n",
        "find_factorial()"
      ],
      "metadata": {
        "colab": {
          "base_uri": "https://localhost:8080/"
        },
        "id": "ABcx_4qH-nwn",
        "outputId": "6e7f82d9-2c51-4236-c537-083b4d62e3ac"
      },
      "execution_count": null,
      "outputs": [
        {
          "output_type": "stream",
          "name": "stdout",
          "text": [
            "Enter a number: 5\n",
            "The factorial of 5 is 120\n"
          ]
        }
      ]
    },
    {
      "cell_type": "markdown",
      "source": [
        "\n",
        "4. Write a program to find the factorial of a given number by calling a factorial function in a recursive\n",
        "manner."
      ],
      "metadata": {
        "id": "mo34Lhos_J-h"
      }
    },
    {
      "cell_type": "code",
      "source": [
        "def factorial(n):\n",
        "    if n == 0 or n == 1:  # Base case\n",
        "        return 1\n",
        "    else:\n",
        "        return n * factorial(n - 1)  # Recursive call\n",
        "\n",
        "num = int(input(\"Enter a number: \"))\n",
        "if num < 0:\n",
        "    print(\"Factorial is not defined for negative numbers.\")\n",
        "else:\n",
        "    print(f\"The factorial of {num} is {factorial(num)}\")\n"
      ],
      "metadata": {
        "colab": {
          "base_uri": "https://localhost:8080/"
        },
        "id": "M7TkThixARq8",
        "outputId": "98ce2916-032d-4976-f478-6316d98420d8"
      },
      "execution_count": null,
      "outputs": [
        {
          "output_type": "stream",
          "name": "stdout",
          "text": [
            "Enter a number: 4\n",
            "The factorial of 4 is 24\n"
          ]
        }
      ]
    }
  ]
}