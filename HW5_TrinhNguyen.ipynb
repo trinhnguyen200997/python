{
  "nbformat": 4,
  "nbformat_minor": 0,
  "metadata": {
    "colab": {
      "provenance": []
    },
    "kernelspec": {
      "name": "python3",
      "display_name": "Python 3"
    },
    "language_info": {
      "name": "python"
    }
  },
  "cells": [
    {
      "cell_type": "code",
      "execution_count": null,
      "metadata": {
        "id": "mtDvMX-dDdko"
      },
      "outputs": [],
      "source": []
    },
    {
      "cell_type": "markdown",
      "source": [
        "\n",
        "\n",
        "*   Student Name: Trinh Nguyen\n",
        "*   Class/Section: INF 528, Spring Semester 2025\n",
        "*   Student ID: TN623245\n",
        "*   Date of Submission: 04/21/2025"
      ],
      "metadata": {
        "id": "vQqY8BSgDnPY"
      }
    },
    {
      "cell_type": "markdown",
      "source": [
        "4.2. Linear Regression"
      ],
      "metadata": {
        "id": "TeiQK6FZIOGm"
      }
    },
    {
      "cell_type": "code",
      "source": [
        "# =============================================================================\n",
        "# LDA Example with Cross Validation\n",
        "# =============================================================================\n",
        "from sklearn.discriminant_analysis import LinearDiscriminantAnalysis\n",
        "\n",
        "from sklearn.model_selection import cross_val_score\n",
        "from sklearn.datasets import load_iris\n",
        "from sklearn.metrics import cohen_kappa_score, make_scorer\n",
        "iris = load_iris()\n",
        "X, y = iris.data, iris.target\n",
        "# fit model no training data\n",
        "#lda = LinearDiscriminantAnalysis(solver=\"svd\", store_covariance=True)\n",
        "#model = LinearDiscriminantAnalysis(solver='lsqr', shrinkage='auto')\n",
        "model = LinearDiscriminantAnalysis(solver='lsqr', shrinkage=None)\n",
        "CV=10 #10-Fold Cross Validation\n",
        "#Evaluate Model Using 10-Fold Cross Validation and Print Performance Metrics\n",
        "Acc_scores = cross_val_score(model, X, y, cv=CV)\n",
        "print(\"Accuracy: %0.3f (+/- %0.3f)\" % (Acc_scores.mean(), Acc_scores.std() * 2))\n",
        "\n",
        "\n",
        "\n",
        "\n",
        "\n",
        "\n",
        "\n",
        "\n",
        "\n",
        "\n",
        "\n",
        "\n"
      ],
      "metadata": {
        "colab": {
          "base_uri": "https://localhost:8080/"
        },
        "id": "s5NpSl-CDyZ_",
        "outputId": "5d12100e-d2a7-42e9-be6e-e1b8a3dfe707"
      },
      "execution_count": 1,
      "outputs": [
        {
          "output_type": "stream",
          "name": "stdout",
          "text": [
            "Accuracy: 0.980 (+/- 0.085)\n"
          ]
        }
      ]
    },
    {
      "cell_type": "markdown",
      "source": [
        "4.3. Gaussian Naïve Bayes Classifier"
      ],
      "metadata": {
        "id": "jiA8aFHBISgC"
      }
    },
    {
      "cell_type": "code",
      "source": [
        "# =============================================================================\n",
        "# Naive Bayes Example with Cross Validation\n",
        "# =============================================================================\n",
        "from sklearn.model_selection import cross_val_score\n",
        "from sklearn.datasets import load_iris\n",
        "#Import Gaussian Naive Bayes model\n",
        "from sklearn.naive_bayes import GaussianNB\n",
        "iris = load_iris()\n",
        "X, y = iris.data, iris.target\n",
        "#Create a Gaussian Classifier\n",
        "model = GaussianNB()\n",
        "CV=10 #10-Fold Cross Validation\n",
        "#Evaluate Model Using 10-Fold Cross Validation and Print Performance Metrics\n",
        "Acc_scores = cross_val_score(model, X, y, cv=CV)\n",
        "print(\"Accuracy: %0.3f (+/- %0.3f)\" % (Acc_scores.mean(), Acc_scores.std() * 2))"
      ],
      "metadata": {
        "colab": {
          "base_uri": "https://localhost:8080/"
        },
        "id": "FkcBLOwCIVYX",
        "outputId": "2446a6f9-26e2-41e8-8afe-da34ad4aa9ed"
      },
      "execution_count": 2,
      "outputs": [
        {
          "output_type": "stream",
          "name": "stdout",
          "text": [
            "Accuracy: 0.953 (+/- 0.085)\n"
          ]
        }
      ]
    },
    {
      "cell_type": "markdown",
      "source": [
        "4.4. Decision Tree (DT)"
      ],
      "metadata": {
        "id": "1RHI5gzgIYv1"
      }
    },
    {
      "cell_type": "code",
      "source": [
        "# Decision Tree  Example with Cross Validation\n",
        "# =============================================================================\n",
        "from sklearn import tree\n",
        "from sklearn.model_selection import cross_val_score\n",
        "from sklearn.datasets import load_iris\n",
        "iris = load_iris()\n",
        "X, y = iris.data, iris.target\n",
        "# fit model no training data\n",
        "model = tree.DecisionTreeClassifier()\n",
        "CV=10 #10-Fold Cross Validation\n",
        "#Evaluate Model Using 10-Fold Cross Validation and Print Performance Metrics\n",
        "Acc_scores = cross_val_score(model, X, y, cv=CV)\n",
        "print(\"Accuracy: %0.3f (+/- %0.3f)\" % (Acc_scores.mean(), Acc_scores.std() * 2))"
      ],
      "metadata": {
        "colab": {
          "base_uri": "https://localhost:8080/"
        },
        "id": "NZ5WfgKYIbdN",
        "outputId": "0700894b-9bb0-4599-c079-81a2bb0367b8"
      },
      "execution_count": 3,
      "outputs": [
        {
          "output_type": "stream",
          "name": "stdout",
          "text": [
            "Accuracy: 0.953 (+/- 0.085)\n"
          ]
        }
      ]
    },
    {
      "cell_type": "markdown",
      "source": [
        "4.5. Logistic Regression (LR)"
      ],
      "metadata": {
        "id": "Q-SkApVjId3m"
      }
    },
    {
      "cell_type": "code",
      "source": [
        "# =============================================================================\n",
        "# Logistic Regression Example with Cross Validation\n",
        "# =============================================================================\n",
        "from sklearn.linear_model import LogisticRegressionCV\n",
        "from sklearn.model_selection import cross_val_score\n",
        "from sklearn.datasets import load_iris\n",
        "import warnings\n",
        "#To prevent warnings\n",
        "warnings.filterwarnings(\"ignore\")\n",
        "iris = load_iris()\n",
        "X, y = iris.data, iris.target\n",
        "CV=10  #10-fold cross validation\n",
        "model = LogisticRegressionCV(cv=CV, random_state=0, multi_class='multinomial').fit(X, y)\n",
        "#Evaluate Model Using 10-Fold Cross Validation and Print Performance Metrics\n",
        "Acc_scores = cross_val_score(model, X, y, cv=CV)\n",
        "print(\"Accuracy: %0.3f (+/- %0.3f)\" % (Acc_scores.mean(), Acc_scores.std() * 2))"
      ],
      "metadata": {
        "colab": {
          "base_uri": "https://localhost:8080/"
        },
        "id": "l7o-RcwGIf3H",
        "outputId": "16355bb9-0a13-424a-cb60-e22165e73727"
      },
      "execution_count": 4,
      "outputs": [
        {
          "output_type": "stream",
          "name": "stdout",
          "text": [
            "Accuracy: 0.973 (+/- 0.088)\n"
          ]
        }
      ]
    },
    {
      "cell_type": "markdown",
      "source": [
        "4.6. K-Nearest Neighbour (k-NN)"
      ],
      "metadata": {
        "id": "IymRjaOcInKb"
      }
    },
    {
      "cell_type": "code",
      "source": [
        "# =============================================================================\n",
        "# k-NN Example with Cross Validation\n",
        "# =============================================================================\n",
        "from sklearn.neighbors import KNeighborsClassifier\n",
        "from sklearn.model_selection import cross_val_score\n",
        "from sklearn.datasets import load_iris\n",
        "iris = load_iris()\n",
        "X, y = iris.data, iris.target\n",
        "#Create a Model\n",
        "model = KNeighborsClassifier(n_neighbors=5)\n",
        "CV=10 #10-Fold Cross Validation\n",
        "#Evaluate Model Using 10-Fold Cross Validation and Print Performance Metrics\n",
        "Acc_scores = cross_val_score(model, X, y, cv=CV)\n",
        "print(\"Accuracy: %0.3f (+/- %0.3f)\" % (Acc_scores.mean(), Acc_scores.std() * 2))"
      ],
      "metadata": {
        "colab": {
          "base_uri": "https://localhost:8080/"
        },
        "id": "bywStW9PIo35",
        "outputId": "f9930ef3-820b-4816-c775-ecac470515ab"
      },
      "execution_count": 5,
      "outputs": [
        {
          "output_type": "stream",
          "name": "stdout",
          "text": [
            "Accuracy: 0.967 (+/- 0.089)\n"
          ]
        }
      ]
    },
    {
      "cell_type": "markdown",
      "source": [
        "4.7. Artificial Neural Networks (ANN)"
      ],
      "metadata": {
        "id": "MnqoKzOJIt4g"
      }
    },
    {
      "cell_type": "code",
      "source": [
        "# =============================================================================\n",
        "# MLP Example with Cross Validation\n",
        "# =============================================================================\n",
        "import numpy as np\n",
        "from sklearn.datasets import load_iris\n",
        "from sklearn.neural_network import MLPClassifier\n",
        "from sklearn.model_selection import cross_val_score\n",
        "from sklearn.metrics import cohen_kappa_score, make_scorer\n",
        "#Load Iris Dataset\n",
        "iris = load_iris()\n",
        "X, y = iris.data, iris.target\n",
        "#Create the Model\n",
        "model =  MLPClassifier(hidden_layer_sizes=(100, ), learning_rate_init=0.001,\n",
        "alpha=1, momentum=0.9,max_iter=1000)\n",
        "CV=10 #10-Fold Cross Validation\n",
        "#Evaluate Model Using 10-Fold Cross Validation and Print Performance Metrics\n",
        "Acc_scores = cross_val_score(model, X, y, cv=CV)\n",
        "print(\"Accuracy: %0.3f (+/- %0.3f)\" % (Acc_scores.mean(), Acc_scores.std() * 2))"
      ],
      "metadata": {
        "colab": {
          "base_uri": "https://localhost:8080/"
        },
        "id": "PTPhI6a1Iu1I",
        "outputId": "1fe8b0c9-898d-4c09-c335-9865131fcb81"
      },
      "execution_count": 6,
      "outputs": [
        {
          "output_type": "stream",
          "name": "stdout",
          "text": [
            "Accuracy: 0.980 (+/- 0.085)\n"
          ]
        }
      ]
    },
    {
      "cell_type": "markdown",
      "source": [
        "4.8. Support Vector Machines (SVM)"
      ],
      "metadata": {
        "id": "mRHOARdIIzKd"
      }
    },
    {
      "cell_type": "code",
      "source": [
        "# =============================================================================\n",
        "# SVM Example with Cross Validation\n",
        "# =============================================================================\n",
        "from sklearn import svm\n",
        "from sklearn.model_selection import cross_val_score\n",
        "from sklearn.datasets import load_iris\n",
        "iris = load_iris()\n",
        "X, y = iris.data, iris.target\n",
        "C = 50.0  # SVM regularization parameter\n",
        "# fit model no training data\n",
        "model =  svm.SVC(kernel='linear', C=C)\n",
        "CV=10 #10-Fold Cross Validation\n",
        "#Evaluate Model Using 10-Fold Cross Validation and Print Performance Metrics\n",
        "Acc_scores = cross_val_score(model, X, y, cv=CV)\n",
        "print(\"Accuracy: %0.3f (+/- %0.3f)\" % (Acc_scores.mean(), Acc_scores.std() * 2))"
      ],
      "metadata": {
        "colab": {
          "base_uri": "https://localhost:8080/"
        },
        "id": "YkLDxOiNI1il",
        "outputId": "59fab3f7-db63-4a85-9407-e8aeaa2b9e0c"
      },
      "execution_count": 7,
      "outputs": [
        {
          "output_type": "stream",
          "name": "stdout",
          "text": [
            "Accuracy: 0.973 (+/- 0.088)\n"
          ]
        }
      ]
    },
    {
      "cell_type": "markdown",
      "source": [
        "4.9. Random Forest  "
      ],
      "metadata": {
        "id": "MKFtCj8sI4P-"
      }
    },
    {
      "cell_type": "code",
      "source": [
        "# =============================================================================\n",
        "# Random Forest Example with Cross Validation\n",
        "# =============================================================================\n",
        "from sklearn.ensemble import RandomForestClassifier\n",
        "from sklearn.model_selection import cross_val_score\n",
        "from sklearn.datasets import load_iris\n",
        "iris = load_iris()\n",
        "X, y = iris.data, iris.target\n",
        "# fit model no training data\n",
        "model = RandomForestClassifier(n_estimators=200)\n",
        "CV=10 #10-Fold Cross Validation\n",
        "#Evaluate Model Using 10-Fold Cross Validation and Print Performance Metrics\n",
        "Acc_scores = cross_val_score(model, X, y, cv=CV)\n",
        "print(\"Accuracy: %0.3f (+/- %0.3f)\" % (Acc_scores.mean(), Acc_scores.std() * 2))"
      ],
      "metadata": {
        "colab": {
          "base_uri": "https://localhost:8080/"
        },
        "id": "buMLwcRhI6Tv",
        "outputId": "9becf268-953d-4e30-8eb6-7eb25c1f93ac"
      },
      "execution_count": 8,
      "outputs": [
        {
          "output_type": "stream",
          "name": "stdout",
          "text": [
            "Accuracy: 0.960 (+/- 0.088)\n"
          ]
        }
      ]
    },
    {
      "cell_type": "markdown",
      "source": [
        "4.10. Bagging"
      ],
      "metadata": {
        "id": "7PGq_BCYI9xp"
      }
    },
    {
      "cell_type": "code",
      "source": [
        "# =============================================================================\n",
        "print(__doc__)\n",
        "from sklearn.model_selection import cross_val_score\n",
        "from sklearn.datasets import load_iris\n",
        "#Import Bagging ensemble model\n",
        "from sklearn.ensemble import BaggingClassifier\n",
        "#Import Tree model as a base classifier\n",
        "from sklearn import tree\n",
        "iris = load_iris()\n",
        "X, y = iris.data, iris.target\n",
        "\n",
        "#Create a Bagging Ensemble Classifier\n",
        "model = BaggingClassifier(tree.DecisionTreeClassifier(),\n",
        "                            max_samples=0.5, max_features=0.5)\n",
        "\n",
        "CV=10 #10-Fold Cross Validation\n",
        "#Evaluate Model Using 10-Fold Cross Validation and Print Performance Metrics\n",
        "Acc_scores = cross_val_score(model, X, y, cv=CV)\n",
        "print(\"Accuracy: %0.3f (+/- %0.3f)\" % (Acc_scores.mean(), Acc_scores.std() * 2))"
      ],
      "metadata": {
        "colab": {
          "base_uri": "https://localhost:8080/"
        },
        "id": "DdvE7pmiI-m7",
        "outputId": "faad27c7-3514-4d96-a33c-4ad0be35a1dd"
      },
      "execution_count": 9,
      "outputs": [
        {
          "output_type": "stream",
          "name": "stdout",
          "text": [
            "Automatically created module for IPython interactive environment\n",
            "Accuracy: 0.940 (+/- 0.126)\n"
          ]
        }
      ]
    },
    {
      "cell_type": "markdown",
      "source": [
        "4.11. Boosting"
      ],
      "metadata": {
        "id": "iYxtHj3BJDoi"
      }
    },
    {
      "cell_type": "code",
      "source": [
        "# =============================================================================\n",
        "# Adaboost Example with Cross Validation\n",
        "# =============================================================================\n",
        "\n",
        "print(__doc__)\n",
        "from sklearn.model_selection import cross_val_score\n",
        "from sklearn.datasets import load_iris\n",
        "#Import Adaboost Ensemble model\n",
        "from sklearn.ensemble import AdaBoostClassifier\n",
        "#Import Tree model as a base classifier\n",
        "from sklearn import tree\n",
        "iris = load_iris()\n",
        "X, y = iris.data, iris.target\n",
        "\n",
        "#Create an Adaboost Ensemble Classifier\n",
        "model = clf=AdaBoostClassifier(tree.DecisionTreeClassifier(),n_estimators=10,\n",
        "                               algorithm='SAMME',learning_rate=0.5)\n",
        "CV=10 #10-Fold Cross Validation\n",
        "#Evaluate Model Using 10-Fold Cross Validation and Print Performance Metrics\n",
        "Acc_scores = cross_val_score(model, X, y, cv=CV)\n",
        "print(\"Accuracy: %0.3f (+/- %0.3f)\" % (Acc_scores.mean(), Acc_scores.std() * 2))"
      ],
      "metadata": {
        "colab": {
          "base_uri": "https://localhost:8080/"
        },
        "id": "i5HQsrGTJF1O",
        "outputId": "861252af-5b24-4d35-b635-6dcebec92631"
      },
      "execution_count": 10,
      "outputs": [
        {
          "output_type": "stream",
          "name": "stdout",
          "text": [
            "Automatically created module for IPython interactive environment\n",
            "Accuracy: 0.960 (+/- 0.088)\n"
          ]
        }
      ]
    },
    {
      "cell_type": "markdown",
      "source": [
        "5.TASKS: MODIFY THE ALGORITHM TO CLASSIFY BREAST CANCER DATASET"
      ],
      "metadata": {
        "id": "qipL1YQaJLHw"
      }
    },
    {
      "cell_type": "markdown",
      "source": [
        "5.1. USING LDA"
      ],
      "metadata": {
        "id": "fSEkSviRJSB9"
      }
    },
    {
      "cell_type": "code",
      "source": [
        "# =============================================================================\n",
        "# LDA Example with Cross Validation using Breast Cancer Dataset\n",
        "# =============================================================================\n",
        "\n",
        "from sklearn.discriminant_analysis import LinearDiscriminantAnalysis\n",
        "from sklearn.model_selection import cross_val_score\n",
        "from sklearn.datasets import load_breast_cancer\n",
        "from sklearn.metrics import cohen_kappa_score, make_scorer\n",
        "\n",
        "# Load Breast Cancer dataset\n",
        "data = load_breast_cancer()\n",
        "X, y = data.data, data.target\n",
        "\n",
        "# Create LDA model\n",
        "model = LinearDiscriminantAnalysis(solver='lsqr', shrinkage=None)\n",
        "\n",
        "# 10-Fold Cross Validation\n",
        "CV = 10\n",
        "\n",
        "# Evaluate Model Using 10-Fold Cross Validation and Print Performance Metrics\n",
        "Acc_scores = cross_val_score(model, X, y, cv=CV)\n",
        "print(\"Accuracy: %0.3f (+/- %0.3f)\" % (Acc_scores.mean(), Acc_scores.std() * 2))\n"
      ],
      "metadata": {
        "colab": {
          "base_uri": "https://localhost:8080/"
        },
        "id": "D3Ihw3DXJYJR",
        "outputId": "c8cec66d-68ce-432c-a613-206199498018"
      },
      "execution_count": 11,
      "outputs": [
        {
          "output_type": "stream",
          "name": "stdout",
          "text": [
            "Accuracy: 0.956 (+/- 0.053)\n"
          ]
        }
      ]
    },
    {
      "cell_type": "markdown",
      "source": [
        "5.2. Using Gaussian Naïve Bayes Classifier"
      ],
      "metadata": {
        "id": "7T2yhM0uKAtt"
      }
    },
    {
      "cell_type": "code",
      "source": [
        "# =============================================================================\n",
        "# Naive Bayes Example with Cross Validation using Breast Cancer Dataset\n",
        "# =============================================================================\n",
        "\n",
        "from sklearn.model_selection import cross_val_score\n",
        "from sklearn.datasets import load_breast_cancer\n",
        "from sklearn.naive_bayes import GaussianNB\n",
        "\n",
        "# Load Breast Cancer dataset\n",
        "data = load_breast_cancer()\n",
        "X, y = data.data, data.target\n",
        "\n",
        "# Create a Gaussian Naive Bayes Classifier\n",
        "model = GaussianNB()\n",
        "\n",
        "CV = 10  # 10-Fold Cross Validation\n",
        "\n",
        "# Evaluate Model Using 10-Fold Cross Validation and Print Performance Metrics\n",
        "Acc_scores = cross_val_score(model, X, y, cv=CV)\n",
        "print(\"Accuracy: %0.3f (+/- %0.3f)\" % (Acc_scores.mean(), Acc_scores.std() * 2))\n"
      ],
      "metadata": {
        "colab": {
          "base_uri": "https://localhost:8080/"
        },
        "id": "8N1PO95_J_5t",
        "outputId": "da39f1a5-bc7f-45fa-ae46-17334f075bc6"
      },
      "execution_count": 12,
      "outputs": [
        {
          "output_type": "stream",
          "name": "stdout",
          "text": [
            "Accuracy: 0.937 (+/- 0.057)\n"
          ]
        }
      ]
    },
    {
      "cell_type": "markdown",
      "source": [
        "5.3. Using Decision Tree (DT)"
      ],
      "metadata": {
        "id": "qLKiqZIQKPx-"
      }
    },
    {
      "cell_type": "code",
      "source": [
        "# =============================================================================\n",
        "# Decision Tree Example with Cross Validation using Breast Cancer Dataset\n",
        "# =============================================================================\n",
        "from sklearn import tree\n",
        "from sklearn.model_selection import cross_val_score\n",
        "from sklearn.datasets import load_breast_cancer\n",
        "\n",
        "# Load Breast Cancer dataset\n",
        "data = load_breast_cancer()\n",
        "X, y = data.data, data.target\n",
        "\n",
        "# Create Decision Tree model\n",
        "model = tree.DecisionTreeClassifier()\n",
        "\n",
        "CV = 10  # 10-Fold Cross Validation\n",
        "\n",
        "# Evaluate Model Using 10-Fold Cross Validation and Print Performance Metrics\n",
        "Acc_scores = cross_val_score(model, X, y, cv=CV)\n",
        "print(\"Accuracy: %0.3f (+/- %0.3f)\" % (Acc_scores.mean(), Acc_scores.std() * 2))\n"
      ],
      "metadata": {
        "colab": {
          "base_uri": "https://localhost:8080/"
        },
        "id": "HfyruhYeKUO8",
        "outputId": "224099d9-fca3-451d-d1ce-08ebbec14c16"
      },
      "execution_count": 13,
      "outputs": [
        {
          "output_type": "stream",
          "name": "stdout",
          "text": [
            "Accuracy: 0.923 (+/- 0.075)\n"
          ]
        }
      ]
    },
    {
      "cell_type": "markdown",
      "source": [
        "5.4. Using Logistic Regression (LR)"
      ],
      "metadata": {
        "id": "jF2ejtDrKiJF"
      }
    },
    {
      "cell_type": "code",
      "source": [
        "# =============================================================================\n",
        "# Logistic Regression Example with Cross Validation using Breast Cancer Dataset\n",
        "# =============================================================================\n",
        "from sklearn.linear_model import LogisticRegressionCV\n",
        "from sklearn.model_selection import cross_val_score\n",
        "from sklearn.datasets import load_breast_cancer\n",
        "import warnings\n",
        "\n",
        "# To prevent warnings\n",
        "warnings.filterwarnings(\"ignore\")\n",
        "\n",
        "# Load Breast Cancer dataset\n",
        "data = load_breast_cancer()\n",
        "X, y = data.data, data.target\n",
        "\n",
        "CV = 10  # 10-fold cross validation\n",
        "\n",
        "# For binary classification, multi_class='auto' is fine\n",
        "model = LogisticRegressionCV(cv=CV, random_state=0, max_iter=1000).fit(X, y)\n",
        "\n",
        "# Evaluate Model Using 10-Fold Cross Validation and Print Performance Metrics\n",
        "Acc_scores = cross_val_score(model, X, y, cv=CV)\n",
        "print(\"Accuracy: %0.3f (+/- %0.3f)\" % (Acc_scores.mean(), Acc_scores.std() * 2))\n"
      ],
      "metadata": {
        "colab": {
          "base_uri": "https://localhost:8080/"
        },
        "id": "h5CR8Wz_Kl1_",
        "outputId": "32100a09-9d2a-430a-e654-1e2c3fdbf73f"
      },
      "execution_count": 14,
      "outputs": [
        {
          "output_type": "stream",
          "name": "stdout",
          "text": [
            "Accuracy: 0.967 (+/- 0.029)\n"
          ]
        }
      ]
    },
    {
      "cell_type": "markdown",
      "source": [
        "5.5. Using K-Nearest Neighbour (k-NN)"
      ],
      "metadata": {
        "id": "kIZ-Es3nK0Q4"
      }
    },
    {
      "cell_type": "code",
      "source": [
        "# =============================================================================\n",
        "# k-NN Example with Cross Validation using Breast Cancer Dataset\n",
        "# =============================================================================\n",
        "from sklearn.neighbors import KNeighborsClassifier\n",
        "from sklearn.model_selection import cross_val_score\n",
        "from sklearn.datasets import load_breast_cancer\n",
        "\n",
        "# Load Breast Cancer dataset\n",
        "data = load_breast_cancer()\n",
        "X, y = data.data, data.target\n",
        "\n",
        "# Create a k-NN Model (k=5)\n",
        "model = KNeighborsClassifier(n_neighbors=5)\n",
        "\n",
        "CV = 10  # 10-Fold Cross Validation\n",
        "\n",
        "# Evaluate Model Using 10-Fold Cross Validation and Print Performance Metrics\n",
        "Acc_scores = cross_val_score(model, X, y, cv=CV)\n",
        "print(\"Accuracy: %0.3f (+/- %0.3f)\" % (Acc_scores.mean(), Acc_scores.std() * 2))\n"
      ],
      "metadata": {
        "colab": {
          "base_uri": "https://localhost:8080/"
        },
        "id": "3oecClCcK5WF",
        "outputId": "f757f365-0a7b-48f4-8d2d-b7613d5b7c93"
      },
      "execution_count": 16,
      "outputs": [
        {
          "output_type": "stream",
          "name": "stdout",
          "text": [
            "Accuracy: 0.930 (+/- 0.059)\n"
          ]
        }
      ]
    },
    {
      "cell_type": "markdown",
      "source": [
        "5.6. Using Artificial Neural Networks (ANN)"
      ],
      "metadata": {
        "id": "3bNhscRuLA4R"
      }
    },
    {
      "cell_type": "code",
      "source": [
        "# =============================================================================\n",
        "# MLP Example with Cross Validation using Breast Cancer Dataset\n",
        "# =============================================================================\n",
        "import numpy as np\n",
        "from sklearn.datasets import load_breast_cancer\n",
        "from sklearn.neural_network import MLPClassifier\n",
        "from sklearn.model_selection import cross_val_score\n",
        "from sklearn.metrics import cohen_kappa_score, make_scorer\n",
        "\n",
        "# Load Breast Cancer Dataset\n",
        "data = load_breast_cancer()\n",
        "X, y = data.data, data.target\n",
        "\n",
        "# Create the MLP Model\n",
        "model = MLPClassifier(hidden_layer_sizes=(100,), learning_rate_init=0.001,\n",
        "                      alpha=1, momentum=0.9, max_iter=1000, random_state=0)\n",
        "\n",
        "CV = 10  # 10-Fold Cross Validation\n",
        "\n",
        "# Evaluate Model Using 10-Fold Cross Validation and Print Performance Metrics\n",
        "Acc_scores = cross_val_score(model, X, y, cv=CV)\n",
        "print(\"Accuracy: %0.3f (+/- %0.3f)\" % (Acc_scores.mean(), Acc_scores.std() * 2))\n"
      ],
      "metadata": {
        "colab": {
          "base_uri": "https://localhost:8080/"
        },
        "id": "6R6epFByLFau",
        "outputId": "17fe5cde-eaf4-4d90-bcb1-5bd11842089a"
      },
      "execution_count": 15,
      "outputs": [
        {
          "output_type": "stream",
          "name": "stdout",
          "text": [
            "Accuracy: 0.931 (+/- 0.048)\n"
          ]
        }
      ]
    },
    {
      "cell_type": "markdown",
      "source": [
        "5.7. Using Support Vector Machines (SVM)"
      ],
      "metadata": {
        "id": "6oykO5NGLSJB"
      }
    },
    {
      "cell_type": "code",
      "source": [
        "# =============================================================================\n",
        "# SVM Example with Cross Validation using Breast Cancer Dataset\n",
        "# =============================================================================\n",
        "from sklearn import svm\n",
        "from sklearn.model_selection import cross_val_score\n",
        "from sklearn.datasets import load_breast_cancer\n",
        "\n",
        "# Load Breast Cancer dataset\n",
        "data = load_breast_cancer()\n",
        "X, y = data.data, data.target\n",
        "\n",
        "C = 50.0  # SVM regularization parameter\n",
        "\n",
        "# Create and train the SVM model with linear kernel\n",
        "model = svm.SVC(kernel='linear', C=C)\n",
        "\n",
        "CV = 10  # 10-Fold Cross Validation\n",
        "\n",
        "# Evaluate Model Using 10-Fold Cross Validation and Print Performance Metrics\n",
        "Acc_scores = cross_val_score(model, X, y, cv=CV)\n",
        "print(\"Accuracy: %0.3f (+/- %0.3f)\" % (Acc_scores.mean(), Acc_scores.std() * 2))\n"
      ],
      "metadata": {
        "colab": {
          "base_uri": "https://localhost:8080/"
        },
        "id": "AmN2DxsjLW2i",
        "outputId": "d17e8beb-23be-4fbd-8aa4-da63aea37746"
      },
      "execution_count": 17,
      "outputs": [
        {
          "output_type": "stream",
          "name": "stdout",
          "text": [
            "Accuracy: 0.944 (+/- 0.049)\n"
          ]
        }
      ]
    },
    {
      "cell_type": "markdown",
      "source": [
        "5.8. Using Random Forest"
      ],
      "metadata": {
        "id": "_eMHWt4hLfdV"
      }
    },
    {
      "cell_type": "code",
      "source": [
        "# =============================================================================\n",
        "# Random Forest Example with Cross Validation using Breast Cancer Dataset\n",
        "# =============================================================================\n",
        "from sklearn.ensemble import RandomForestClassifier\n",
        "from sklearn.model_selection import cross_val_score\n",
        "from sklearn.datasets import load_breast_cancer\n",
        "\n",
        "# Load Breast Cancer dataset\n",
        "data = load_breast_cancer()\n",
        "X, y = data.data, data.target\n",
        "\n",
        "# Create the Random Forest model\n",
        "model = RandomForestClassifier(n_estimators=200, random_state=0)\n",
        "\n",
        "CV = 10  # 10-Fold Cross Validation\n",
        "\n",
        "# Evaluate Model Using 10-Fold Cross Validation and Print Performance Metrics\n",
        "Acc_scores = cross_val_score(model, X, y, cv=CV)\n",
        "print(\"Accuracy: %0.3f (+/- %0.3f)\" % (Acc_scores.mean(), Acc_scores.std() * 2))\n"
      ],
      "metadata": {
        "colab": {
          "base_uri": "https://localhost:8080/"
        },
        "id": "jahiF5hTLkpj",
        "outputId": "110b1212-66eb-4758-e682-0ede0f67612b"
      },
      "execution_count": 18,
      "outputs": [
        {
          "output_type": "stream",
          "name": "stdout",
          "text": [
            "Accuracy: 0.965 (+/- 0.057)\n"
          ]
        }
      ]
    },
    {
      "cell_type": "markdown",
      "source": [
        "5.9. Using Bagging"
      ],
      "metadata": {
        "id": "HpBCZPPXLrdC"
      }
    },
    {
      "cell_type": "code",
      "source": [
        "# =============================================================================\n",
        "# Bagging Classifier Example with Cross Validation using Breast Cancer Dataset\n",
        "# =============================================================================\n",
        "print(__doc__)\n",
        "\n",
        "from sklearn.model_selection import cross_val_score\n",
        "from sklearn.datasets import load_breast_cancer\n",
        "from sklearn.ensemble import BaggingClassifier\n",
        "from sklearn import tree\n",
        "\n",
        "# Load Breast Cancer dataset\n",
        "data = load_breast_cancer()\n",
        "X, y = data.data, data.target\n",
        "\n",
        "# Create a Bagging Ensemble Classifier with Decision Tree base\n",
        "model = BaggingClassifier(tree.DecisionTreeClassifier(),\n",
        "                          max_samples=0.5, max_features=0.5, random_state=0)\n",
        "\n",
        "CV = 10  # 10-Fold Cross Validation\n",
        "\n",
        "# Evaluate Model Using 10-Fold Cross Validation and Print Performance Metrics\n",
        "Acc_scores = cross_val_score(model, X, y, cv=CV)\n",
        "print(\"Accuracy: %0.3f (+/- %0.3f)\" % (Acc_scores.mean(), Acc_scores.std() * 2))\n"
      ],
      "metadata": {
        "colab": {
          "base_uri": "https://localhost:8080/"
        },
        "id": "pZKMbUXrLwGB",
        "outputId": "e64e30b9-7778-4a4f-81fb-1e3ee0704c95"
      },
      "execution_count": 19,
      "outputs": [
        {
          "output_type": "stream",
          "name": "stdout",
          "text": [
            "Automatically created module for IPython interactive environment\n",
            "Accuracy: 0.947 (+/- 0.065)\n"
          ]
        }
      ]
    },
    {
      "cell_type": "markdown",
      "source": [
        "5.10. Using Boosting"
      ],
      "metadata": {
        "id": "iXaFYGQdL4Tk"
      }
    },
    {
      "cell_type": "code",
      "source": [
        "# =============================================================================\n",
        "# Adaboost Example with Cross Validation using Breast Cancer Dataset\n",
        "# =============================================================================\n",
        "\n",
        "print(__doc__)\n",
        "from sklearn.model_selection import cross_val_score\n",
        "from sklearn.datasets import load_breast_cancer\n",
        "from sklearn.ensemble import AdaBoostClassifier\n",
        "from sklearn import tree\n",
        "\n",
        "# Load Breast Cancer dataset\n",
        "data = load_breast_cancer()\n",
        "X, y = data.data, data.target\n",
        "\n",
        "# Create an AdaBoost Ensemble Classifier with Decision Tree base\n",
        "model = AdaBoostClassifier(tree.DecisionTreeClassifier(),\n",
        "                           n_estimators=10, algorithm='SAMME',\n",
        "                           learning_rate=0.5, random_state=0)\n",
        "\n",
        "CV = 10  # 10-Fold Cross Validation\n",
        "\n",
        "# Evaluate Model Using 10-Fold Cross Validation and Print Performance Metrics\n",
        "Acc_scores = cross_val_score(model, X, y, cv=CV)\n",
        "print(\"Accuracy: %0.3f (+/- %0.3f)\" % (Acc_scores.mean(), Acc_scores.std() * 2))\n"
      ],
      "metadata": {
        "colab": {
          "base_uri": "https://localhost:8080/"
        },
        "id": "jdiBg68pL7O9",
        "outputId": "08d51868-ee26-4ee5-e943-b1a4bacc3e07"
      },
      "execution_count": 20,
      "outputs": [
        {
          "output_type": "stream",
          "name": "stdout",
          "text": [
            "Automatically created module for IPython interactive environment\n",
            "Accuracy: 0.914 (+/- 0.063)\n"
          ]
        }
      ]
    },
    {
      "cell_type": "markdown",
      "source": [
        "6. Evaluation Questions:\n",
        "\n",
        "**i) Why do different classifiers give different results?**\n",
        "\n",
        "Different classifiers give different results because they use different methods to learn from data, make different assumptions, and vary in complexity. Some work better with certain types of data, while others might overfit or underfit depending on the situation. That’s why their accuracy and performance can vary.\n",
        "\n",
        "**ii) Why do we need several machine learning algorithms?**\n",
        "\n",
        "Because different algorithms have strengths and weaknesses depending on the type of data and problem we're trying to solve. Some algorithms perform better on certain types of data (e.g., linear vs. non-linear), while others are more robust to noise or can handle more complex patterns. By having multiple options, we can choose the best algorithm for a specific task, or even combine them to improve performance. This flexibility helps ensure that we can tackle a wide variety of problems effectively.\n"
      ],
      "metadata": {
        "id": "XnuGXRquMG2h"
      }
    },
    {
      "cell_type": "code",
      "source": [],
      "metadata": {
        "id": "Z5susnf2MNSI"
      },
      "execution_count": null,
      "outputs": []
    }
  ]
}